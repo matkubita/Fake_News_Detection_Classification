{
 "cells": [
  {
   "cell_type": "code",
   "execution_count": 1,
   "id": "cc4fc234",
   "metadata": {},
   "outputs": [],
   "source": [
    "#importowanie bibliotek\n",
    "import numpy as np\n",
    "import pandas as pd\n",
    "import matplotlib.pyplot as plt\n",
    "import seaborn as sns\n",
    "from sklearn.model_selection import train_test_split\n",
    "from sklearn import preprocessing\n",
    "from sklearn.metrics import confusion_matrix\n",
    "from sklearn.feature_extraction.text import TfidfVectorizer\n",
    "from sklearn.preprocessing import StandardScaler, FunctionTransformer, LabelEncoder\n",
    "from nltk.stem.porter import PorterStemmer\n",
    "import nltk\n",
    "from nltk.corpus import stopwords\n",
    "import re\n",
    "import string\n",
    "from sklearn.tree import DecisionTreeClassifier\n",
    "from sklearn.base import BaseEstimator, TransformerMixin\n",
    "from sklearn.pipeline import Pipeline\n",
    "from sklearn.compose import ColumnTransformer\n",
    "from sklearn.preprocessing import LabelEncoder\n",
    "from sklearn.ensemble import RandomForestClassifier\n",
    "from sklearn.metrics import classification_report\n",
    "import xgboost as xgb\n",
    "from langdetect import detect\n",
    "\n",
    "import warnings\n",
    "#warnings.filterwarnings('ignore')\n"
   ]
  },
  {
   "cell_type": "code",
   "execution_count": 2,
   "id": "e3790084",
   "metadata": {},
   "outputs": [],
   "source": [
    "df = pd.read_csv(\"PreProcessedData.csv\")"
   ]
  },
  {
   "cell_type": "code",
   "execution_count": 3,
   "id": "12cb20d1",
   "metadata": {},
   "outputs": [],
   "source": [
    "#df = df.sample(frac=0.5) #zeby szybciej sie uczylo, potem wezmiemy calosc"
   ]
  },
  {
   "cell_type": "code",
   "execution_count": 4,
   "id": "b117d0e7",
   "metadata": {
    "scrolled": true
   },
   "outputs": [
    {
     "data": {
      "text/html": [
       "<div>\n",
       "<style scoped>\n",
       "    .dataframe tbody tr th:only-of-type {\n",
       "        vertical-align: middle;\n",
       "    }\n",
       "\n",
       "    .dataframe tbody tr th {\n",
       "        vertical-align: top;\n",
       "    }\n",
       "\n",
       "    .dataframe thead th {\n",
       "        text-align: right;\n",
       "    }\n",
       "</style>\n",
       "<table border=\"1\" class=\"dataframe\">\n",
       "  <thead>\n",
       "    <tr style=\"text-align: right;\">\n",
       "      <th></th>\n",
       "      <th>Unnamed: 0</th>\n",
       "      <th>title</th>\n",
       "      <th>text</th>\n",
       "      <th>Ground Label</th>\n",
       "    </tr>\n",
       "  </thead>\n",
       "  <tbody>\n",
       "    <tr>\n",
       "      <th>0</th>\n",
       "      <td>0</td>\n",
       "      <td>Ann Coulter Make Believes She Has ‘Gay Friend...</td>\n",
       "      <td>It s hard to believe, but Donald Trump does ha...</td>\n",
       "      <td>fake</td>\n",
       "    </tr>\n",
       "    <tr>\n",
       "      <th>1</th>\n",
       "      <td>1</td>\n",
       "      <td>Rating: Moody‘s verbessert Ausblick für Russla...</td>\n",
       "      <td>bankensektor Der russische Staat werde die Ban...</td>\n",
       "      <td>fake</td>\n",
       "    </tr>\n",
       "    <tr>\n",
       "      <th>2</th>\n",
       "      <td>2</td>\n",
       "      <td>CAN WE ADD DIRTY MONEY ‘LAUNDERING’ To The Oba...</td>\n",
       "      <td>A member of the House Intelligence Committee i...</td>\n",
       "      <td>fake</td>\n",
       "    </tr>\n",
       "    <tr>\n",
       "      <th>3</th>\n",
       "      <td>3</td>\n",
       "      <td>Republicans on Obamacare repeal: 'We're going ...</td>\n",
       "      <td>WASHINGTON (Reuters) - House of Representative...</td>\n",
       "      <td>true</td>\n",
       "    </tr>\n",
       "    <tr>\n",
       "      <th>4</th>\n",
       "      <td>4</td>\n",
       "      <td>Trump, on possible DACA deal, says border wall...</td>\n",
       "      <td>WASHINGTON (Reuters) - U.S. President Donald T...</td>\n",
       "      <td>true</td>\n",
       "    </tr>\n",
       "  </tbody>\n",
       "</table>\n",
       "</div>"
      ],
      "text/plain": [
       "   Unnamed: 0                                              title  \\\n",
       "0           0   Ann Coulter Make Believes She Has ‘Gay Friend...   \n",
       "1           1  Rating: Moody‘s verbessert Ausblick für Russla...   \n",
       "2           2  CAN WE ADD DIRTY MONEY ‘LAUNDERING’ To The Oba...   \n",
       "3           3  Republicans on Obamacare repeal: 'We're going ...   \n",
       "4           4  Trump, on possible DACA deal, says border wall...   \n",
       "\n",
       "                                                text Ground Label  \n",
       "0  It s hard to believe, but Donald Trump does ha...         fake  \n",
       "1  bankensektor Der russische Staat werde die Ban...         fake  \n",
       "2  A member of the House Intelligence Committee i...         fake  \n",
       "3  WASHINGTON (Reuters) - House of Representative...         true  \n",
       "4  WASHINGTON (Reuters) - U.S. President Donald T...         true  "
      ]
     },
     "execution_count": 4,
     "metadata": {},
     "output_type": "execute_result"
    }
   ],
   "source": [
    "df.head()"
   ]
  },
  {
   "cell_type": "code",
   "execution_count": 5,
   "id": "cfb5cc3d",
   "metadata": {},
   "outputs": [],
   "source": [
    "df.rename(columns = {'Ground Label': 'label'},inplace=True)"
   ]
  },
  {
   "cell_type": "code",
   "execution_count": 6,
   "id": "d0c5b07a",
   "metadata": {},
   "outputs": [],
   "source": [
    "#usunm ta jedna kolumne bo jest useless\n",
    "df.drop(df.columns[0], inplace=True, axis=1)"
   ]
  },
  {
   "cell_type": "code",
   "execution_count": 7,
   "id": "ffd8c76d",
   "metadata": {},
   "outputs": [
    {
     "data": {
      "text/html": [
       "<div>\n",
       "<style scoped>\n",
       "    .dataframe tbody tr th:only-of-type {\n",
       "        vertical-align: middle;\n",
       "    }\n",
       "\n",
       "    .dataframe tbody tr th {\n",
       "        vertical-align: top;\n",
       "    }\n",
       "\n",
       "    .dataframe thead th {\n",
       "        text-align: right;\n",
       "    }\n",
       "</style>\n",
       "<table border=\"1\" class=\"dataframe\">\n",
       "  <thead>\n",
       "    <tr style=\"text-align: right;\">\n",
       "      <th></th>\n",
       "      <th>title</th>\n",
       "      <th>text</th>\n",
       "      <th>label</th>\n",
       "    </tr>\n",
       "  </thead>\n",
       "  <tbody>\n",
       "    <tr>\n",
       "      <th>0</th>\n",
       "      <td>Ann Coulter Make Believes She Has ‘Gay Friend...</td>\n",
       "      <td>It s hard to believe, but Donald Trump does ha...</td>\n",
       "      <td>fake</td>\n",
       "    </tr>\n",
       "    <tr>\n",
       "      <th>1</th>\n",
       "      <td>Rating: Moody‘s verbessert Ausblick für Russla...</td>\n",
       "      <td>bankensektor Der russische Staat werde die Ban...</td>\n",
       "      <td>fake</td>\n",
       "    </tr>\n",
       "    <tr>\n",
       "      <th>2</th>\n",
       "      <td>CAN WE ADD DIRTY MONEY ‘LAUNDERING’ To The Oba...</td>\n",
       "      <td>A member of the House Intelligence Committee i...</td>\n",
       "      <td>fake</td>\n",
       "    </tr>\n",
       "    <tr>\n",
       "      <th>3</th>\n",
       "      <td>Republicans on Obamacare repeal: 'We're going ...</td>\n",
       "      <td>WASHINGTON (Reuters) - House of Representative...</td>\n",
       "      <td>true</td>\n",
       "    </tr>\n",
       "    <tr>\n",
       "      <th>4</th>\n",
       "      <td>Trump, on possible DACA deal, says border wall...</td>\n",
       "      <td>WASHINGTON (Reuters) - U.S. President Donald T...</td>\n",
       "      <td>true</td>\n",
       "    </tr>\n",
       "  </tbody>\n",
       "</table>\n",
       "</div>"
      ],
      "text/plain": [
       "                                               title  \\\n",
       "0   Ann Coulter Make Believes She Has ‘Gay Friend...   \n",
       "1  Rating: Moody‘s verbessert Ausblick für Russla...   \n",
       "2  CAN WE ADD DIRTY MONEY ‘LAUNDERING’ To The Oba...   \n",
       "3  Republicans on Obamacare repeal: 'We're going ...   \n",
       "4  Trump, on possible DACA deal, says border wall...   \n",
       "\n",
       "                                                text label  \n",
       "0  It s hard to believe, but Donald Trump does ha...  fake  \n",
       "1  bankensektor Der russische Staat werde die Ban...  fake  \n",
       "2  A member of the House Intelligence Committee i...  fake  \n",
       "3  WASHINGTON (Reuters) - House of Representative...  true  \n",
       "4  WASHINGTON (Reuters) - U.S. President Donald T...  true  "
      ]
     },
     "execution_count": 7,
     "metadata": {},
     "output_type": "execute_result"
    }
   ],
   "source": [
    "df.head()"
   ]
  },
  {
   "cell_type": "code",
   "execution_count": 8,
   "id": "5e104cb1",
   "metadata": {},
   "outputs": [],
   "source": [
    "#splitting the data\n",
    "x_train, x_val, y_train, y_val = train_test_split(df[['title','text']], df['label'], test_size=0.3, random_state=10)"
   ]
  },
  {
   "cell_type": "code",
   "execution_count": 9,
   "id": "85674c80",
   "metadata": {},
   "outputs": [],
   "source": [
    "df=pd.concat([x_train, y_train], axis=1, join='inner')"
   ]
  },
  {
   "cell_type": "code",
   "execution_count": 10,
   "id": "2170a15e",
   "metadata": {},
   "outputs": [
    {
     "data": {
      "text/html": [
       "<div>\n",
       "<style scoped>\n",
       "    .dataframe tbody tr th:only-of-type {\n",
       "        vertical-align: middle;\n",
       "    }\n",
       "\n",
       "    .dataframe tbody tr th {\n",
       "        vertical-align: top;\n",
       "    }\n",
       "\n",
       "    .dataframe thead th {\n",
       "        text-align: right;\n",
       "    }\n",
       "</style>\n",
       "<table border=\"1\" class=\"dataframe\">\n",
       "  <thead>\n",
       "    <tr style=\"text-align: right;\">\n",
       "      <th></th>\n",
       "      <th>title</th>\n",
       "      <th>text</th>\n",
       "      <th>label</th>\n",
       "    </tr>\n",
       "  </thead>\n",
       "  <tbody>\n",
       "    <tr>\n",
       "      <th>41223</th>\n",
       "      <td>Short on boots and backing, West Africa force ...</td>\n",
       "      <td>SEVARE, Mali (Reuters) - Snipers from a new We...</td>\n",
       "      <td>true</td>\n",
       "    </tr>\n",
       "    <tr>\n",
       "      <th>32850</th>\n",
       "      <td>Half of Germans want new elections after coali...</td>\n",
       "      <td>BERLIN (Reuters) - Half of Germans are in favo...</td>\n",
       "      <td>true</td>\n",
       "    </tr>\n",
       "    <tr>\n",
       "      <th>3816</th>\n",
       "      <td>Research Suggests Gun Background Checks Work, ...</td>\n",
       "      <td>Research Suggests Gun Background Checks Work, ...</td>\n",
       "      <td>true</td>\n",
       "    </tr>\n",
       "    <tr>\n",
       "      <th>48938</th>\n",
       "      <td>Iraqi PM Abadi says Kurdish independence refer...</td>\n",
       "      <td>BAGHDAD (Reuters) - Iraqi Prime Minister Haide...</td>\n",
       "      <td>true</td>\n",
       "    </tr>\n",
       "    <tr>\n",
       "      <th>35936</th>\n",
       "      <td>Vietnam calls on Cambodia to protect immigrants</td>\n",
       "      <td>HANOI (Reuters) - Vietnam called on Cambodia o...</td>\n",
       "      <td>true</td>\n",
       "    </tr>\n",
       "  </tbody>\n",
       "</table>\n",
       "</div>"
      ],
      "text/plain": [
       "                                                   title  \\\n",
       "41223  Short on boots and backing, West Africa force ...   \n",
       "32850  Half of Germans want new elections after coali...   \n",
       "3816   Research Suggests Gun Background Checks Work, ...   \n",
       "48938  Iraqi PM Abadi says Kurdish independence refer...   \n",
       "35936    Vietnam calls on Cambodia to protect immigrants   \n",
       "\n",
       "                                                    text label  \n",
       "41223  SEVARE, Mali (Reuters) - Snipers from a new We...  true  \n",
       "32850  BERLIN (Reuters) - Half of Germans are in favo...  true  \n",
       "3816   Research Suggests Gun Background Checks Work, ...  true  \n",
       "48938  BAGHDAD (Reuters) - Iraqi Prime Minister Haide...  true  \n",
       "35936  HANOI (Reuters) - Vietnam called on Cambodia o...  true  "
      ]
     },
     "execution_count": 10,
     "metadata": {},
     "output_type": "execute_result"
    }
   ],
   "source": [
    "df.head()"
   ]
  },
  {
   "cell_type": "code",
   "execution_count": 11,
   "id": "085a22f4",
   "metadata": {},
   "outputs": [
    {
     "data": {
      "text/html": [
       "<div>\n",
       "<style scoped>\n",
       "    .dataframe tbody tr th:only-of-type {\n",
       "        vertical-align: middle;\n",
       "    }\n",
       "\n",
       "    .dataframe tbody tr th {\n",
       "        vertical-align: top;\n",
       "    }\n",
       "\n",
       "    .dataframe thead th {\n",
       "        text-align: right;\n",
       "    }\n",
       "</style>\n",
       "<table border=\"1\" class=\"dataframe\">\n",
       "  <thead>\n",
       "    <tr style=\"text-align: right;\">\n",
       "      <th></th>\n",
       "      <th>title</th>\n",
       "      <th>text</th>\n",
       "      <th>label</th>\n",
       "    </tr>\n",
       "  </thead>\n",
       "  <tbody>\n",
       "    <tr>\n",
       "      <th>40188</th>\n",
       "      <td>Globalist Plan for Human Control</td>\n",
       "      <td>Veteran IT Training Program Leads to 100% Job ...</td>\n",
       "      <td>fake</td>\n",
       "    </tr>\n",
       "    <tr>\n",
       "      <th>59762</th>\n",
       "      <td>8 classic football banners of our time</td>\n",
       "      <td>Next Swipe left/right 8 classic football banne...</td>\n",
       "      <td>fake</td>\n",
       "    </tr>\n",
       "    <tr>\n",
       "      <th>24768</th>\n",
       "      <td>EVERY BAD THING We Can Say Goodbye To With Our...</td>\n",
       "      <td>The word  nothing-burger  has been tossed arou...</td>\n",
       "      <td>fake</td>\n",
       "    </tr>\n",
       "    <tr>\n",
       "      <th>32685</th>\n",
       "      <td>WHEN A GOVERNMENT PUTS IMMIGRANTS BEFORE CITIZ...</td>\n",
       "      <td>Barack Obama and the Democrat party would like...</td>\n",
       "      <td>fake</td>\n",
       "    </tr>\n",
       "    <tr>\n",
       "      <th>33435</th>\n",
       "      <td>GREAT! TRUMP ADVISOR Hits Back At Sen. Liz War...</td>\n",
       "      <td></td>\n",
       "      <td>fake</td>\n",
       "    </tr>\n",
       "    <tr>\n",
       "      <th>...</th>\n",
       "      <td>...</td>\n",
       "      <td>...</td>\n",
       "      <td>...</td>\n",
       "    </tr>\n",
       "    <tr>\n",
       "      <th>7290</th>\n",
       "      <td>Russia to respond to Twitter ban on Russian me...</td>\n",
       "      <td>MOSCOW (Reuters) - Russia said on Thursday it ...</td>\n",
       "      <td>true</td>\n",
       "    </tr>\n",
       "    <tr>\n",
       "      <th>49391</th>\n",
       "      <td>Smart Cities, Androids, Technocracy, Kevin Spa...</td>\n",
       "      <td>Tune in to the Alternate Current Radio Network...</td>\n",
       "      <td>fake</td>\n",
       "    </tr>\n",
       "    <tr>\n",
       "      <th>53604</th>\n",
       "      <td>Obama Talks About HIMSELF 207 Times In Speeche...</td>\n",
       "      <td>Go to Article \\r\\nPresident Barack Obama has b...</td>\n",
       "      <td>fake</td>\n",
       "    </tr>\n",
       "    <tr>\n",
       "      <th>47475</th>\n",
       "      <td>Boiler Room #106 – Did Israel Attack Damascus?...</td>\n",
       "      <td>Tune in to the Alternate Current Radio Network...</td>\n",
       "      <td>fake</td>\n",
       "    </tr>\n",
       "    <tr>\n",
       "      <th>17904</th>\n",
       "      <td>Comment on If Clinton Goes Down, Loretta Lynch...</td>\n",
       "      <td>Posted on October 31, 2016 by Daisy Luther \\r\\...</td>\n",
       "      <td>fake</td>\n",
       "    </tr>\n",
       "  </tbody>\n",
       "</table>\n",
       "<p>4759 rows × 3 columns</p>\n",
       "</div>"
      ],
      "text/plain": [
       "                                                   title  \\\n",
       "40188                   Globalist Plan for Human Control   \n",
       "59762             8 classic football banners of our time   \n",
       "24768  EVERY BAD THING We Can Say Goodbye To With Our...   \n",
       "32685  WHEN A GOVERNMENT PUTS IMMIGRANTS BEFORE CITIZ...   \n",
       "33435  GREAT! TRUMP ADVISOR Hits Back At Sen. Liz War...   \n",
       "...                                                  ...   \n",
       "7290   Russia to respond to Twitter ban on Russian me...   \n",
       "49391  Smart Cities, Androids, Technocracy, Kevin Spa...   \n",
       "53604  Obama Talks About HIMSELF 207 Times In Speeche...   \n",
       "47475  Boiler Room #106 – Did Israel Attack Damascus?...   \n",
       "17904  Comment on If Clinton Goes Down, Loretta Lynch...   \n",
       "\n",
       "                                                    text label  \n",
       "40188  Veteran IT Training Program Leads to 100% Job ...  fake  \n",
       "59762  Next Swipe left/right 8 classic football banne...  fake  \n",
       "24768  The word  nothing-burger  has been tossed arou...  fake  \n",
       "32685  Barack Obama and the Democrat party would like...  fake  \n",
       "33435                                                     fake  \n",
       "...                                                  ...   ...  \n",
       "7290   MOSCOW (Reuters) - Russia said on Thursday it ...  true  \n",
       "49391  Tune in to the Alternate Current Radio Network...  fake  \n",
       "53604  Go to Article \\r\\nPresident Barack Obama has b...  fake  \n",
       "47475  Tune in to the Alternate Current Radio Network...  fake  \n",
       "17904  Posted on October 31, 2016 by Daisy Luther \\r\\...  fake  \n",
       "\n",
       "[4759 rows x 3 columns]"
      ]
     },
     "execution_count": 11,
     "metadata": {},
     "output_type": "execute_result"
    }
   ],
   "source": [
    "df.loc[df.duplicated()]"
   ]
  },
  {
   "cell_type": "code",
   "execution_count": 12,
   "id": "6ff1d1ba",
   "metadata": {},
   "outputs": [
    {
     "data": {
      "text/html": [
       "<div>\n",
       "<style scoped>\n",
       "    .dataframe tbody tr th:only-of-type {\n",
       "        vertical-align: middle;\n",
       "    }\n",
       "\n",
       "    .dataframe tbody tr th {\n",
       "        vertical-align: top;\n",
       "    }\n",
       "\n",
       "    .dataframe thead th {\n",
       "        text-align: right;\n",
       "    }\n",
       "</style>\n",
       "<table border=\"1\" class=\"dataframe\">\n",
       "  <thead>\n",
       "    <tr style=\"text-align: right;\">\n",
       "      <th></th>\n",
       "      <th>title</th>\n",
       "      <th>text</th>\n",
       "      <th>label</th>\n",
       "    </tr>\n",
       "  </thead>\n",
       "  <tbody>\n",
       "    <tr>\n",
       "      <th>50192</th>\n",
       "      <td>Comment on If Clinton Goes Down, Loretta Lynch...</td>\n",
       "      <td>Posted on October 31, 2016 by Daisy Luther \\r\\...</td>\n",
       "      <td>fake</td>\n",
       "    </tr>\n",
       "    <tr>\n",
       "      <th>63556</th>\n",
       "      <td>If Clinton Goes Down, Loretta Lynch Will Go Do...</td>\n",
       "      <td>\\r\\nOh, Loretta.\\r\\nI’ll bet that AG Loretta L...</td>\n",
       "      <td>fake</td>\n",
       "    </tr>\n",
       "    <tr>\n",
       "      <th>17904</th>\n",
       "      <td>Comment on If Clinton Goes Down, Loretta Lynch...</td>\n",
       "      <td>Posted on October 31, 2016 by Daisy Luther \\r\\...</td>\n",
       "      <td>fake</td>\n",
       "    </tr>\n",
       "  </tbody>\n",
       "</table>\n",
       "</div>"
      ],
      "text/plain": [
       "                                                   title  \\\n",
       "50192  Comment on If Clinton Goes Down, Loretta Lynch...   \n",
       "63556  If Clinton Goes Down, Loretta Lynch Will Go Do...   \n",
       "17904  Comment on If Clinton Goes Down, Loretta Lynch...   \n",
       "\n",
       "                                                    text label  \n",
       "50192  Posted on October 31, 2016 by Daisy Luther \\r\\...  fake  \n",
       "63556  \\r\\nOh, Loretta.\\r\\nI’ll bet that AG Loretta L...  fake  \n",
       "17904  Posted on October 31, 2016 by Daisy Luther \\r\\...  fake  "
      ]
     },
     "execution_count": 12,
     "metadata": {},
     "output_type": "execute_result"
    }
   ],
   "source": [
    "df.loc[ df['title'].str.contains('Goes Down, Loretta', na=False)  ]"
   ]
  },
  {
   "cell_type": "markdown",
   "id": "779ecaf7",
   "metadata": {},
   "source": [
    "Mamy 4600 duplikatów spośród 48 000 wierszy. Warto by było usunąć te duplikaty w zbiorze treningowym, bo nic nie wnoszą sensownego"
   ]
  },
  {
   "cell_type": "code",
   "execution_count": 13,
   "id": "e00feec2",
   "metadata": {},
   "outputs": [],
   "source": [
    "df.drop_duplicates(inplace = True)"
   ]
  },
  {
   "cell_type": "code",
   "execution_count": 14,
   "id": "9ccc2940",
   "metadata": {},
   "outputs": [
    {
     "data": {
      "text/html": [
       "<div>\n",
       "<style scoped>\n",
       "    .dataframe tbody tr th:only-of-type {\n",
       "        vertical-align: middle;\n",
       "    }\n",
       "\n",
       "    .dataframe tbody tr th {\n",
       "        vertical-align: top;\n",
       "    }\n",
       "\n",
       "    .dataframe thead th {\n",
       "        text-align: right;\n",
       "    }\n",
       "</style>\n",
       "<table border=\"1\" class=\"dataframe\">\n",
       "  <thead>\n",
       "    <tr style=\"text-align: right;\">\n",
       "      <th></th>\n",
       "      <th>title</th>\n",
       "      <th>text</th>\n",
       "      <th>label</th>\n",
       "    </tr>\n",
       "  </thead>\n",
       "  <tbody>\n",
       "  </tbody>\n",
       "</table>\n",
       "</div>"
      ],
      "text/plain": [
       "Empty DataFrame\n",
       "Columns: [title, text, label]\n",
       "Index: []"
      ]
     },
     "execution_count": 14,
     "metadata": {},
     "output_type": "execute_result"
    }
   ],
   "source": [
    "df.loc[df.duplicated()]"
   ]
  },
  {
   "cell_type": "markdown",
   "id": "e1458008",
   "metadata": {},
   "source": [
    "# 1. Analiza całokształtu zadania - CEL"
   ]
  },
  {
   "cell_type": "markdown",
   "id": "6632bc01",
   "metadata": {},
   "source": [
    "Cel projektu : mamy title newsa, text i ground label czyli informacje czy to jest fake czy nie -> \n",
    "Musimy stworzyc model klasyfikacji ktory bedzie stwierdzać, czy dany artykuł jest prawdziwy czy nie."
   ]
  },
  {
   "cell_type": "markdown",
   "id": "77995143",
   "metadata": {},
   "source": [
    "# 2. Wizualizacja danych"
   ]
  },
  {
   "cell_type": "code",
   "execution_count": 15,
   "id": "87cef752",
   "metadata": {},
   "outputs": [
    {
     "name": "stdout",
     "output_type": "stream",
     "text": [
      "<class 'pandas.core.frame.DataFrame'>\n",
      "Int64Index: 43572 entries, 41223 to 50496\n",
      "Data columns (total 3 columns):\n",
      " #   Column  Non-Null Count  Dtype \n",
      "---  ------  --------------  ----- \n",
      " 0   title   43129 non-null  object\n",
      " 1   text    43525 non-null  object\n",
      " 2   label   43572 non-null  object\n",
      "dtypes: object(3)\n",
      "memory usage: 1.3+ MB\n"
     ]
    }
   ],
   "source": [
    "df.info()"
   ]
  },
  {
   "cell_type": "code",
   "execution_count": 16,
   "id": "a922e684",
   "metadata": {
    "scrolled": false
   },
   "outputs": [
    {
     "data": {
      "text/plain": [
       "(43572, 3)"
      ]
     },
     "execution_count": 16,
     "metadata": {},
     "output_type": "execute_result"
    }
   ],
   "source": [
    "df.shape"
   ]
  },
  {
   "cell_type": "code",
   "execution_count": 17,
   "id": "a883414a",
   "metadata": {
    "scrolled": true
   },
   "outputs": [
    {
     "data": {
      "text/plain": [
       "fake    24961\n",
       "true    18611\n",
       "Name: label, dtype: int64"
      ]
     },
     "execution_count": 17,
     "metadata": {},
     "output_type": "execute_result"
    }
   ],
   "source": [
    "df['label'].value_counts()"
   ]
  },
  {
   "cell_type": "code",
   "execution_count": 18,
   "id": "61f98bbf",
   "metadata": {},
   "outputs": [
    {
     "name": "stderr",
     "output_type": "stream",
     "text": [
      "C:\\Users\\Krzysztof\\anaconda3\\lib\\site-packages\\seaborn\\_decorators.py:36: FutureWarning: Pass the following variable as a keyword arg: x. From version 0.12, the only valid positional argument will be `data`, and passing other arguments without an explicit keyword will result in an error or misinterpretation.\n",
      "  warnings.warn(\n"
     ]
    },
    {
     "data": {
      "image/png": "[encoded data removed]",
      "text/plain": [
       "<Figure size 640x480 with 1 Axes>"
      ]
     },
     "metadata": {},
     "output_type": "display_data"
    }
   ],
   "source": [
    "sns.countplot(df['label'])\n",
    "plt.title('Number of fake news and true news')\n",
    "plt.show()"
   ]
  },
  {
   "cell_type": "code",
   "execution_count": 19,
   "id": "c1967011",
   "metadata": {},
   "outputs": [
    {
     "data": {
      "image/png": "[encoded data removed]",
      "text/plain": [
       "<Figure size 640x480 with 1 Axes>"
      ]
     },
     "metadata": {},
     "output_type": "display_data"
    }
   ],
   "source": [
    "df['title'].str.len().hist(bins=[0,3,20,50,75,100,150,200,300,400])\n",
    "plt.title('Histogram - TITLE length')\n",
    "plt.show()"
   ]
  },
  {
   "cell_type": "code",
   "execution_count": 20,
   "id": "b80f34d5",
   "metadata": {},
   "outputs": [
    {
     "data": {
      "image/png": "[encoded data removed]",
      "text/plain": [
       "<Figure size 640x480 with 1 Axes>"
      ]
     },
     "metadata": {},
     "output_type": "display_data"
    }
   ],
   "source": [
    "df['text'].str.len().hist(bins=[0,50,200,300,1000,2000,3000,5000,20000,90000])\n",
    "plt.title('Histogram - TEXT length')\n",
    "plt.show()"
   ]
  },
  {
   "cell_type": "code",
   "execution_count": 21,
   "id": "88ee481f",
   "metadata": {},
   "outputs": [
    {
     "data": {
      "text/plain": [
       "title    443\n",
       "text      47\n",
       "label      0\n",
       "dtype: int64"
      ]
     },
     "execution_count": 21,
     "metadata": {},
     "output_type": "execute_result"
    }
   ],
   "source": [
    "df.isna().sum() #tytuł będziemy doklejać do tekstu"
   ]
  },
  {
   "cell_type": "code",
   "execution_count": 22,
   "id": "4a8c5544",
   "metadata": {},
   "outputs": [
    {
     "name": "stderr",
     "output_type": "stream",
     "text": [
      "C:\\Users\\Krzysztof\\anaconda3\\lib\\site-packages\\seaborn\\distributions.py:2619: FutureWarning: `distplot` is a deprecated function and will be removed in a future version. Please adapt your code to use either `displot` (a figure-level function with similar flexibility) or `histplot` (an axes-level function for histograms).\n",
      "  warnings.warn(msg, FutureWarning)\n",
      "C:\\Users\\Krzysztof\\anaconda3\\lib\\site-packages\\seaborn\\distributions.py:2619: FutureWarning: `distplot` is a deprecated function and will be removed in a future version. Please adapt your code to use either `displot` (a figure-level function with similar flexibility) or `histplot` (an axes-level function for histograms).\n",
      "  warnings.warn(msg, FutureWarning)\n"
     ]
    },
    {
     "data": {
      "image/png": "[encoded data removed]",
      "text/plain": [
       "<Figure size 2000x1000 with 2 Axes>"
      ]
     },
     "metadata": {},
     "output_type": "display_data"
    }
   ],
   "source": [
    "#average title length in each text\n",
    "fig,(ax1,ax2)=plt.subplots(1,2,figsize=(20,10))\n",
    "\n",
    "len_word_true=df[df['label']=='true']['title'].str.len()\n",
    "sns.distplot(len_word_true.map(lambda x: np.mean(x)),ax=ax1,color='green')\n",
    "ax1.set_xlim([0,250])\n",
    "ax1.set_title('Original title')\n",
    "\n",
    "len_word_false=df[df['label']=='fake']['title'].str.len()\n",
    "sns.distplot(len_word_false.map(lambda x: np.mean(x)),ax=ax2,color='red')\n",
    "ax2.set_xlim([0,250])\n",
    "ax2.set_title('Fake text')\n",
    "\n",
    "fig.suptitle('Average title length in each text')\n",
    "\n",
    "plt.show()"
   ]
  },
  {
   "cell_type": "code",
   "execution_count": 23,
   "id": "5967fcba",
   "metadata": {},
   "outputs": [
    {
     "name": "stderr",
     "output_type": "stream",
     "text": [
      "C:\\Users\\Krzysztof\\anaconda3\\lib\\site-packages\\seaborn\\distributions.py:2619: FutureWarning: `distplot` is a deprecated function and will be removed in a future version. Please adapt your code to use either `displot` (a figure-level function with similar flexibility) or `histplot` (an axes-level function for histograms).\n",
      "  warnings.warn(msg, FutureWarning)\n",
      "C:\\Users\\Krzysztof\\anaconda3\\lib\\site-packages\\seaborn\\distributions.py:2619: FutureWarning: `distplot` is a deprecated function and will be removed in a future version. Please adapt your code to use either `displot` (a figure-level function with similar flexibility) or `histplot` (an axes-level function for histograms).\n",
      "  warnings.warn(msg, FutureWarning)\n"
     ]
    },
    {
     "data": {
      "image/png": "[encoded data removed]",
      "text/plain": [
       "<Figure size 2000x1000 with 2 Axes>"
      ]
     },
     "metadata": {},
     "output_type": "display_data"
    }
   ],
   "source": [
    "#average word length in each text\n",
    "fig,(ax1,ax2)=plt.subplots(1,2,figsize=(20,10))\n",
    "len_word_true=df[df['label']=='true']['text'].str.len()\n",
    "sns.distplot(len_word_true.map(lambda x: np.mean(x)),ax=ax1,color='green')\n",
    "ax1.set_title('Original text')\n",
    "ax1.set_xlim([-100,20000])\n",
    "\n",
    "len_word_false=df[df['label']=='fake']['text'].str.len()\n",
    "sns.distplot(len_word_false.map(lambda x: np.mean(x)),ax=ax2,color='red')\n",
    "ax2.set_title('Fake text')\n",
    "\n",
    "fig.suptitle('Average text length in each text')\n",
    "ax2.set_xlim([-100,20000])\n",
    "plt.show()"
   ]
  },
  {
   "cell_type": "code",
   "execution_count": 24,
   "id": "842dec04",
   "metadata": {},
   "outputs": [
    {
     "data": {
      "text/html": [
       "<div>\n",
       "<style scoped>\n",
       "    .dataframe tbody tr th:only-of-type {\n",
       "        vertical-align: middle;\n",
       "    }\n",
       "\n",
       "    .dataframe tbody tr th {\n",
       "        vertical-align: top;\n",
       "    }\n",
       "\n",
       "    .dataframe thead th {\n",
       "        text-align: right;\n",
       "    }\n",
       "</style>\n",
       "<table border=\"1\" class=\"dataframe\">\n",
       "  <thead>\n",
       "    <tr style=\"text-align: right;\">\n",
       "      <th></th>\n",
       "      <th>title</th>\n",
       "      <th>text</th>\n",
       "      <th>label</th>\n",
       "    </tr>\n",
       "  </thead>\n",
       "  <tbody>\n",
       "    <tr>\n",
       "      <th>44588</th>\n",
       "      <td>Ron Paul on Trump, Anarchism &amp; the AltRight</td>\n",
       "      <td>NaN</td>\n",
       "      <td>fake</td>\n",
       "    </tr>\n",
       "    <tr>\n",
       "      <th>20689</th>\n",
       "      <td>10/3 Expo Park-Forbes Field Era: Pirates, Gray...</td>\n",
       "      <td>NaN</td>\n",
       "      <td>fake</td>\n",
       "    </tr>\n",
       "    <tr>\n",
       "      <th>61261</th>\n",
       "      <td>110% des Américains assurent qu’ils continuero...</td>\n",
       "      <td>NaN</td>\n",
       "      <td>fake</td>\n",
       "    </tr>\n",
       "    <tr>\n",
       "      <th>22446</th>\n",
       "      <td>Donald Trump en 5 dates &gt;&gt; Le Gorafi</td>\n",
       "      <td>NaN</td>\n",
       "      <td>fake</td>\n",
       "    </tr>\n",
       "    <tr>\n",
       "      <th>42041</th>\n",
       "      <td>Elle met en fuite un braqueur en lui jetant de...</td>\n",
       "      <td>NaN</td>\n",
       "      <td>fake</td>\n",
       "    </tr>\n",
       "    <tr>\n",
       "      <th>49201</th>\n",
       "      <td>10/4 TRS-PNC Park Era: Reds Thump Buc 3x in Pl...</td>\n",
       "      <td>NaN</td>\n",
       "      <td>fake</td>\n",
       "    </tr>\n",
       "    <tr>\n",
       "      <th>8403</th>\n",
       "      <td>Débat Primaire de la Droite : les Français pas...</td>\n",
       "      <td>NaN</td>\n",
       "      <td>fake</td>\n",
       "    </tr>\n",
       "    <tr>\n",
       "      <th>27463</th>\n",
       "      <td>10/5 Expo Park-Forbes Field: Bucs Win '60 Open...</td>\n",
       "      <td>NaN</td>\n",
       "      <td>fake</td>\n",
       "    </tr>\n",
       "    <tr>\n",
       "      <th>43742</th>\n",
       "      <td>Here's the Democracy Alliance's 'Resistance Map'</td>\n",
       "      <td>NaN</td>\n",
       "      <td>true</td>\n",
       "    </tr>\n",
       "    <tr>\n",
       "      <th>68433</th>\n",
       "      <td>Vladimir Poutine est élu 45e Président des Eta...</td>\n",
       "      <td>NaN</td>\n",
       "      <td>fake</td>\n",
       "    </tr>\n",
       "    <tr>\n",
       "      <th>44321</th>\n",
       "      <td>Hillary Clinton en 5 dates &gt;&gt; Le Gorafi</td>\n",
       "      <td>NaN</td>\n",
       "      <td>fake</td>\n",
       "    </tr>\n",
       "    <tr>\n",
       "      <th>38237</th>\n",
       "      <td>Trop essoufflé après avoir cherché ses affaire...</td>\n",
       "      <td>NaN</td>\n",
       "      <td>fake</td>\n",
       "    </tr>\n",
       "    <tr>\n",
       "      <th>34632</th>\n",
       "      <td>Ravens @ Raiders - Wednesday</td>\n",
       "      <td>NaN</td>\n",
       "      <td>fake</td>\n",
       "    </tr>\n",
       "    <tr>\n",
       "      <th>65006</th>\n",
       "      <td>Nous avons comparé les programmes d’Alain Jupp...</td>\n",
       "      <td>NaN</td>\n",
       "      <td>fake</td>\n",
       "    </tr>\n",
       "    <tr>\n",
       "      <th>10078</th>\n",
       "      <td>The Prophet of Germany’s New Right</td>\n",
       "      <td>NaN</td>\n",
       "      <td>true</td>\n",
       "    </tr>\n",
       "    <tr>\n",
       "      <th>48567</th>\n",
       "      <td>« J’y crois encore ! » par Alain Juppé en trai...</td>\n",
       "      <td>NaN</td>\n",
       "      <td>fake</td>\n",
       "    </tr>\n",
       "    <tr>\n",
       "      <th>61828</th>\n",
       "      <td>Le top des recherches Google passe en top des ...</td>\n",
       "      <td>NaN</td>\n",
       "      <td>fake</td>\n",
       "    </tr>\n",
       "    <tr>\n",
       "      <th>63780</th>\n",
       "      <td>Grand-Prix du Brésil – Romain Grosjean obtient...</td>\n",
       "      <td>NaN</td>\n",
       "      <td>fake</td>\n",
       "    </tr>\n",
       "    <tr>\n",
       "      <th>46244</th>\n",
       "      <td>10/3 TRS-PNC Park Era: Bucs Win a Couple, Lose...</td>\n",
       "      <td>NaN</td>\n",
       "      <td>fake</td>\n",
       "    </tr>\n",
       "    <tr>\n",
       "      <th>68363</th>\n",
       "      <td>Donald Trump s’excuse pour toutes les minorité...</td>\n",
       "      <td>NaN</td>\n",
       "      <td>fake</td>\n",
       "    </tr>\n",
       "    <tr>\n",
       "      <th>56234</th>\n",
       "      <td>Il se fait cryogéniser dans l’espoir de voir u...</td>\n",
       "      <td>NaN</td>\n",
       "      <td>fake</td>\n",
       "    </tr>\n",
       "    <tr>\n",
       "      <th>50536</th>\n",
       "      <td>10 Shocking Facts About Porn You Probably Didn...</td>\n",
       "      <td>NaN</td>\n",
       "      <td>fake</td>\n",
       "    </tr>\n",
       "    <tr>\n",
       "      <th>60182</th>\n",
       "      <td>GuinessBook : 100 millions d’Américains batten...</td>\n",
       "      <td>NaN</td>\n",
       "      <td>fake</td>\n",
       "    </tr>\n",
       "    <tr>\n",
       "      <th>52331</th>\n",
       "      <td>Vendée Globe – Un skipper fait demi-tour après...</td>\n",
       "      <td>NaN</td>\n",
       "      <td>fake</td>\n",
       "    </tr>\n",
       "    <tr>\n",
       "      <th>38878</th>\n",
       "      <td>Une fan demande le remboursement de son tatoua...</td>\n",
       "      <td>NaN</td>\n",
       "      <td>fake</td>\n",
       "    </tr>\n",
       "    <tr>\n",
       "      <th>722</th>\n",
       "      <td>La Corée du Nord annonce avoir envoyé un missi...</td>\n",
       "      <td>NaN</td>\n",
       "      <td>fake</td>\n",
       "    </tr>\n",
       "    <tr>\n",
       "      <th>41188</th>\n",
       "      <td>Elections US : les premières estimations donne...</td>\n",
       "      <td>NaN</td>\n",
       "      <td>fake</td>\n",
       "    </tr>\n",
       "    <tr>\n",
       "      <th>2098</th>\n",
       "      <td>Live Soirée présidentielle US 2016 &gt;&gt; Le Gorafi</td>\n",
       "      <td>NaN</td>\n",
       "      <td>fake</td>\n",
       "    </tr>\n",
       "    <tr>\n",
       "      <th>27689</th>\n",
       "      <td>La voyante lisait l’avenir dans les cartes ble...</td>\n",
       "      <td>NaN</td>\n",
       "      <td>fake</td>\n",
       "    </tr>\n",
       "    <tr>\n",
       "      <th>36556</th>\n",
       "      <td>La sortie du dernier livre inédit du Gorafi éc...</td>\n",
       "      <td>NaN</td>\n",
       "      <td>fake</td>\n",
       "    </tr>\n",
       "    <tr>\n",
       "      <th>38417</th>\n",
       "      <td>Hunting the terror group from 70,000ft</td>\n",
       "      <td>NaN</td>\n",
       "      <td>true</td>\n",
       "    </tr>\n",
       "    <tr>\n",
       "      <th>63182</th>\n",
       "      <td>Révélations – François Fillon serait de droite...</td>\n",
       "      <td>NaN</td>\n",
       "      <td>fake</td>\n",
       "    </tr>\n",
       "    <tr>\n",
       "      <th>52702</th>\n",
       "      <td>#NDDL: Pour fêter l’autorisation des travaux, ...</td>\n",
       "      <td>NaN</td>\n",
       "      <td>fake</td>\n",
       "    </tr>\n",
       "    <tr>\n",
       "      <th>29647</th>\n",
       "      <td>10/6: HBD Eddie, Tom, Gene, Jeff, Joel &amp; Radha...</td>\n",
       "      <td>NaN</td>\n",
       "      <td>fake</td>\n",
       "    </tr>\n",
       "    <tr>\n",
       "      <th>29771</th>\n",
       "      <td>Horoscope du 14 novembre 2016 &gt;&gt; Le Gorafi</td>\n",
       "      <td>NaN</td>\n",
       "      <td>fake</td>\n",
       "    </tr>\n",
       "    <tr>\n",
       "      <th>39501</th>\n",
       "      <td>10/6 Post-Season: WS: Beat Boston,Lose Two To ...</td>\n",
       "      <td>NaN</td>\n",
       "      <td>fake</td>\n",
       "    </tr>\n",
       "    <tr>\n",
       "      <th>10701</th>\n",
       "      <td>New U.N. Report Cites Terrorists, Blames Assad...</td>\n",
       "      <td>NaN</td>\n",
       "      <td>fake</td>\n",
       "    </tr>\n",
       "    <tr>\n",
       "      <th>30218</th>\n",
       "      <td>Des millions d’Américains recherchent massivem...</td>\n",
       "      <td>NaN</td>\n",
       "      <td>fake</td>\n",
       "    </tr>\n",
       "    <tr>\n",
       "      <th>739</th>\n",
       "      <td>10/3 Happenings: HBD Cap, Johnny, Dog, Tomato,...</td>\n",
       "      <td>NaN</td>\n",
       "      <td>fake</td>\n",
       "    </tr>\n",
       "    <tr>\n",
       "      <th>31292</th>\n",
       "      <td>10/5 TRS-PNC Park: Bucs Win in '71, '79; Lose ...</td>\n",
       "      <td>NaN</td>\n",
       "      <td>fake</td>\n",
       "    </tr>\n",
       "    <tr>\n",
       "      <th>40026</th>\n",
       "      <td>“Notre batal a coulé” par l’homme qui fait des...</td>\n",
       "      <td>NaN</td>\n",
       "      <td>fake</td>\n",
       "    </tr>\n",
       "    <tr>\n",
       "      <th>28289</th>\n",
       "      <td>New-York – Le lâcher de confettis prévu à Time...</td>\n",
       "      <td>NaN</td>\n",
       "      <td>fake</td>\n",
       "    </tr>\n",
       "    <tr>\n",
       "      <th>16401</th>\n",
       "      <td>Des traces de vin rouge détectées dans le Beau...</td>\n",
       "      <td>NaN</td>\n",
       "      <td>fake</td>\n",
       "    </tr>\n",
       "    <tr>\n",
       "      <th>68020</th>\n",
       "      <td>Ravens @ Raiders - Thursday</td>\n",
       "      <td>NaN</td>\n",
       "      <td>fake</td>\n",
       "    </tr>\n",
       "    <tr>\n",
       "      <th>15872</th>\n",
       "      <td>SPA : Enfermé depuis trois jours dans une cage...</td>\n",
       "      <td>NaN</td>\n",
       "      <td>fake</td>\n",
       "    </tr>\n",
       "    <tr>\n",
       "      <th>47324</th>\n",
       "      <td>La Trump Tower cambriolée – les voleurs seraie...</td>\n",
       "      <td>NaN</td>\n",
       "      <td>fake</td>\n",
       "    </tr>\n",
       "    <tr>\n",
       "      <th>55527</th>\n",
       "      <td>Horoscope du 21 novembre 2016 &gt;&gt; Le Gorafi</td>\n",
       "      <td>NaN</td>\n",
       "      <td>fake</td>\n",
       "    </tr>\n",
       "  </tbody>\n",
       "</table>\n",
       "</div>"
      ],
      "text/plain": [
       "                                                   title text label\n",
       "44588        Ron Paul on Trump, Anarchism & the AltRight  NaN  fake\n",
       "20689  10/3 Expo Park-Forbes Field Era: Pirates, Gray...  NaN  fake\n",
       "61261  110% des Américains assurent qu’ils continuero...  NaN  fake\n",
       "22446               Donald Trump en 5 dates >> Le Gorafi  NaN  fake\n",
       "42041  Elle met en fuite un braqueur en lui jetant de...  NaN  fake\n",
       "49201  10/4 TRS-PNC Park Era: Reds Thump Buc 3x in Pl...  NaN  fake\n",
       "8403   Débat Primaire de la Droite : les Français pas...  NaN  fake\n",
       "27463  10/5 Expo Park-Forbes Field: Bucs Win '60 Open...  NaN  fake\n",
       "43742   Here's the Democracy Alliance's 'Resistance Map'  NaN  true\n",
       "68433  Vladimir Poutine est élu 45e Président des Eta...  NaN  fake\n",
       "44321            Hillary Clinton en 5 dates >> Le Gorafi  NaN  fake\n",
       "38237  Trop essoufflé après avoir cherché ses affaire...  NaN  fake\n",
       "34632                       Ravens @ Raiders - Wednesday  NaN  fake\n",
       "65006  Nous avons comparé les programmes d’Alain Jupp...  NaN  fake\n",
       "10078                 The Prophet of Germany’s New Right  NaN  true\n",
       "48567  « J’y crois encore ! » par Alain Juppé en trai...  NaN  fake\n",
       "61828  Le top des recherches Google passe en top des ...  NaN  fake\n",
       "63780  Grand-Prix du Brésil – Romain Grosjean obtient...  NaN  fake\n",
       "46244  10/3 TRS-PNC Park Era: Bucs Win a Couple, Lose...  NaN  fake\n",
       "68363  Donald Trump s’excuse pour toutes les minorité...  NaN  fake\n",
       "56234  Il se fait cryogéniser dans l’espoir de voir u...  NaN  fake\n",
       "50536  10 Shocking Facts About Porn You Probably Didn...  NaN  fake\n",
       "60182  GuinessBook : 100 millions d’Américains batten...  NaN  fake\n",
       "52331  Vendée Globe – Un skipper fait demi-tour après...  NaN  fake\n",
       "38878  Une fan demande le remboursement de son tatoua...  NaN  fake\n",
       "722    La Corée du Nord annonce avoir envoyé un missi...  NaN  fake\n",
       "41188  Elections US : les premières estimations donne...  NaN  fake\n",
       "2098     Live Soirée présidentielle US 2016 >> Le Gorafi  NaN  fake\n",
       "27689  La voyante lisait l’avenir dans les cartes ble...  NaN  fake\n",
       "36556  La sortie du dernier livre inédit du Gorafi éc...  NaN  fake\n",
       "38417             Hunting the terror group from 70,000ft  NaN  true\n",
       "63182  Révélations – François Fillon serait de droite...  NaN  fake\n",
       "52702  #NDDL: Pour fêter l’autorisation des travaux, ...  NaN  fake\n",
       "29647  10/6: HBD Eddie, Tom, Gene, Jeff, Joel & Radha...  NaN  fake\n",
       "29771         Horoscope du 14 novembre 2016 >> Le Gorafi  NaN  fake\n",
       "39501  10/6 Post-Season: WS: Beat Boston,Lose Two To ...  NaN  fake\n",
       "10701  New U.N. Report Cites Terrorists, Blames Assad...  NaN  fake\n",
       "30218  Des millions d’Américains recherchent massivem...  NaN  fake\n",
       "739    10/3 Happenings: HBD Cap, Johnny, Dog, Tomato,...  NaN  fake\n",
       "31292  10/5 TRS-PNC Park: Bucs Win in '71, '79; Lose ...  NaN  fake\n",
       "40026  “Notre batal a coulé” par l’homme qui fait des...  NaN  fake\n",
       "28289  New-York – Le lâcher de confettis prévu à Time...  NaN  fake\n",
       "16401  Des traces de vin rouge détectées dans le Beau...  NaN  fake\n",
       "68020                        Ravens @ Raiders - Thursday  NaN  fake\n",
       "15872  SPA : Enfermé depuis trois jours dans une cage...  NaN  fake\n",
       "47324  La Trump Tower cambriolée – les voleurs seraie...  NaN  fake\n",
       "55527         Horoscope du 21 novembre 2016 >> Le Gorafi  NaN  fake"
      ]
     },
     "execution_count": 24,
     "metadata": {},
     "output_type": "execute_result"
    }
   ],
   "source": [
    "df.loc[df['text'].isna()]"
   ]
  },
  {
   "cell_type": "code",
   "execution_count": 25,
   "id": "4b0a25e1",
   "metadata": {},
   "outputs": [
    {
     "data": {
      "text/html": [
       "<div>\n",
       "<style scoped>\n",
       "    .dataframe tbody tr th:only-of-type {\n",
       "        vertical-align: middle;\n",
       "    }\n",
       "\n",
       "    .dataframe tbody tr th {\n",
       "        vertical-align: top;\n",
       "    }\n",
       "\n",
       "    .dataframe thead th {\n",
       "        text-align: right;\n",
       "    }\n",
       "</style>\n",
       "<table border=\"1\" class=\"dataframe\">\n",
       "  <thead>\n",
       "    <tr style=\"text-align: right;\">\n",
       "      <th></th>\n",
       "      <th>title</th>\n",
       "      <th>text</th>\n",
       "      <th>label</th>\n",
       "    </tr>\n",
       "  </thead>\n",
       "  <tbody>\n",
       "    <tr>\n",
       "      <th>3639</th>\n",
       "      <td>NaN</td>\n",
       "      <td>Makes sense… You do the same with any other co...</td>\n",
       "      <td>fake</td>\n",
       "    </tr>\n",
       "    <tr>\n",
       "      <th>53532</th>\n",
       "      <td>NaN</td>\n",
       "      <td>.. \"SEC in  recent months has raised concern t...</td>\n",
       "      <td>fake</td>\n",
       "    </tr>\n",
       "    <tr>\n",
       "      <th>2744</th>\n",
       "      <td>NaN</td>\n",
       "      <td>Would have been more ironic if that had been a...</td>\n",
       "      <td>fake</td>\n",
       "    </tr>\n",
       "    <tr>\n",
       "      <th>46671</th>\n",
       "      <td>NaN</td>\n",
       "      <td>Trump has an excuse now to audit any vote with...</td>\n",
       "      <td>fake</td>\n",
       "    </tr>\n",
       "    <tr>\n",
       "      <th>33527</th>\n",
       "      <td>NaN</td>\n",
       "      <td>ah...it's Aloha Snack Bar...</td>\n",
       "      <td>fake</td>\n",
       "    </tr>\n",
       "    <tr>\n",
       "      <th>...</th>\n",
       "      <td>...</td>\n",
       "      <td>...</td>\n",
       "      <td>...</td>\n",
       "    </tr>\n",
       "    <tr>\n",
       "      <th>31756</th>\n",
       "      <td>NaN</td>\n",
       "      <td>I think we must get away from this…its not good…</td>\n",
       "      <td>fake</td>\n",
       "    </tr>\n",
       "    <tr>\n",
       "      <th>10500</th>\n",
       "      <td>NaN</td>\n",
       "      <td>David Brock went from a Right Wing CS to a Lef...</td>\n",
       "      <td>fake</td>\n",
       "    </tr>\n",
       "    <tr>\n",
       "      <th>6897</th>\n",
       "      <td>NaN</td>\n",
       "      <td>The New World Order elite want to steal Russia...</td>\n",
       "      <td>fake</td>\n",
       "    </tr>\n",
       "    <tr>\n",
       "      <th>58718</th>\n",
       "      <td>NaN</td>\n",
       "      <td>So privatization is really moving the CIA into...</td>\n",
       "      <td>fake</td>\n",
       "    </tr>\n",
       "    <tr>\n",
       "      <th>13435</th>\n",
       "      <td>NaN</td>\n",
       "      <td>Your hyperbole makes you sound more like a Tru...</td>\n",
       "      <td>fake</td>\n",
       "    </tr>\n",
       "  </tbody>\n",
       "</table>\n",
       "<p>443 rows × 3 columns</p>\n",
       "</div>"
      ],
      "text/plain": [
       "      title                                               text label\n",
       "3639    NaN  Makes sense… You do the same with any other co...  fake\n",
       "53532   NaN  .. \"SEC in  recent months has raised concern t...  fake\n",
       "2744    NaN  Would have been more ironic if that had been a...  fake\n",
       "46671   NaN  Trump has an excuse now to audit any vote with...  fake\n",
       "33527   NaN                       ah...it's Aloha Snack Bar...  fake\n",
       "...     ...                                                ...   ...\n",
       "31756   NaN   I think we must get away from this…its not good…  fake\n",
       "10500   NaN  David Brock went from a Right Wing CS to a Lef...  fake\n",
       "6897    NaN  The New World Order elite want to steal Russia...  fake\n",
       "58718   NaN  So privatization is really moving the CIA into...  fake\n",
       "13435   NaN  Your hyperbole makes you sound more like a Tru...  fake\n",
       "\n",
       "[443 rows x 3 columns]"
      ]
     },
     "execution_count": 25,
     "metadata": {},
     "output_type": "execute_result"
    }
   ],
   "source": [
    "df.loc[df['title'].isna()]"
   ]
  },
  {
   "cell_type": "code",
   "execution_count": 26,
   "id": "e8fdb405",
   "metadata": {},
   "outputs": [
    {
     "data": {
      "text/html": [
       "<div>\n",
       "<style scoped>\n",
       "    .dataframe tbody tr th:only-of-type {\n",
       "        vertical-align: middle;\n",
       "    }\n",
       "\n",
       "    .dataframe tbody tr th {\n",
       "        vertical-align: top;\n",
       "    }\n",
       "\n",
       "    .dataframe thead th {\n",
       "        text-align: right;\n",
       "    }\n",
       "</style>\n",
       "<table border=\"1\" class=\"dataframe\">\n",
       "  <thead>\n",
       "    <tr style=\"text-align: right;\">\n",
       "      <th></th>\n",
       "      <th>title</th>\n",
       "      <th>text</th>\n",
       "      <th>label</th>\n",
       "    </tr>\n",
       "  </thead>\n",
       "  <tbody>\n",
       "  </tbody>\n",
       "</table>\n",
       "</div>"
      ],
      "text/plain": [
       "Empty DataFrame\n",
       "Columns: [title, text, label]\n",
       "Index: []"
      ]
     },
     "execution_count": 26,
     "metadata": {},
     "output_type": "execute_result"
    }
   ],
   "source": [
    "df.loc[ ( df['title'].isna() ) &  ( df['text'].isna() )]"
   ]
  },
  {
   "cell_type": "code",
   "execution_count": 27,
   "id": "1095b6b2",
   "metadata": {},
   "outputs": [
    {
     "data": {
      "text/html": [
       "<div>\n",
       "<style scoped>\n",
       "    .dataframe tbody tr th:only-of-type {\n",
       "        vertical-align: middle;\n",
       "    }\n",
       "\n",
       "    .dataframe tbody tr th {\n",
       "        vertical-align: top;\n",
       "    }\n",
       "\n",
       "    .dataframe thead th {\n",
       "        text-align: right;\n",
       "    }\n",
       "</style>\n",
       "<table border=\"1\" class=\"dataframe\">\n",
       "  <thead>\n",
       "    <tr style=\"text-align: right;\">\n",
       "      <th></th>\n",
       "      <th>title</th>\n",
       "      <th>text</th>\n",
       "      <th>label</th>\n",
       "    </tr>\n",
       "  </thead>\n",
       "  <tbody>\n",
       "    <tr>\n",
       "      <th>31705</th>\n",
       "      <td>Trump’s Closing Argument</td>\n",
       "      <td></td>\n",
       "      <td>fake</td>\n",
       "    </tr>\n",
       "    <tr>\n",
       "      <th>32178</th>\n",
       "      <td>Calexit Yes</td>\n",
       "      <td>David Swanson</td>\n",
       "      <td>fake</td>\n",
       "    </tr>\n",
       "    <tr>\n",
       "      <th>52235</th>\n",
       "      <td>Huma Abedin’s Muslim Dad</td>\n",
       "      <td></td>\n",
       "      <td>fake</td>\n",
       "    </tr>\n",
       "    <tr>\n",
       "      <th>29457</th>\n",
       "      <td>World War 3?</td>\n",
       "      <td></td>\n",
       "      <td>fake</td>\n",
       "    </tr>\n",
       "    <tr>\n",
       "      <th>13184</th>\n",
       "      <td>Hillary’s Watergate?</td>\n",
       "      <td></td>\n",
       "      <td>fake</td>\n",
       "    </tr>\n",
       "    <tr>\n",
       "      <th>25468</th>\n",
       "      <td>Huma’s Weiner Dogs Hillary</td>\n",
       "      <td></td>\n",
       "      <td>fake</td>\n",
       "    </tr>\n",
       "    <tr>\n",
       "      <th>39760</th>\n",
       "      <td>RIP, Vine</td>\n",
       "      <td>Trending</td>\n",
       "      <td>fake</td>\n",
       "    </tr>\n",
       "    <tr>\n",
       "      <th>26483</th>\n",
       "      <td>LIVE FEED: INAUGURATION 2017!</td>\n",
       "      <td></td>\n",
       "      <td>fake</td>\n",
       "    </tr>\n",
       "  </tbody>\n",
       "</table>\n",
       "</div>"
      ],
      "text/plain": [
       "                               title           text label\n",
       "31705       Trump’s Closing Argument                 fake\n",
       "32178                    Calexit Yes  David Swanson  fake\n",
       "52235       Huma Abedin’s Muslim Dad                 fake\n",
       "29457                   World War 3?                 fake\n",
       "13184           Hillary’s Watergate?                 fake\n",
       "25468     Huma’s Weiner Dogs Hillary                 fake\n",
       "39760                      RIP, Vine      Trending   fake\n",
       "26483  LIVE FEED: INAUGURATION 2017!                 fake"
      ]
     },
     "execution_count": 27,
     "metadata": {},
     "output_type": "execute_result"
    }
   ],
   "source": [
    "df.loc[( df['text'].str.len() < 30 )  & (df['title'].str.len()<30)]"
   ]
  },
  {
   "cell_type": "markdown",
   "id": "c38f2940",
   "metadata": {},
   "source": [
    "# 3. Preprocessing"
   ]
  },
  {
   "cell_type": "markdown",
   "id": "460bb3d6",
   "metadata": {},
   "source": [
    "# 3.0 SPLITTING DATA"
   ]
  },
  {
   "cell_type": "code",
   "execution_count": 28,
   "id": "2b880a28",
   "metadata": {},
   "outputs": [],
   "source": [
    "#splitting the data\n",
    "x_train, x_test, y_train, y_test = train_test_split(df[['title','text']], df['label'], test_size=0.3, random_state=10) \n",
    "# a co zeby zrobic warstwowe probkowanie i zachowac stosunek?"
   ]
  },
  {
   "cell_type": "code",
   "execution_count": 29,
   "id": "19a0d797",
   "metadata": {},
   "outputs": [
    {
     "data": {
      "text/html": [
       "<div>\n",
       "<style scoped>\n",
       "    .dataframe tbody tr th:only-of-type {\n",
       "        vertical-align: middle;\n",
       "    }\n",
       "\n",
       "    .dataframe tbody tr th {\n",
       "        vertical-align: top;\n",
       "    }\n",
       "\n",
       "    .dataframe thead th {\n",
       "        text-align: right;\n",
       "    }\n",
       "</style>\n",
       "<table border=\"1\" class=\"dataframe\">\n",
       "  <thead>\n",
       "    <tr style=\"text-align: right;\">\n",
       "      <th></th>\n",
       "      <th>title</th>\n",
       "      <th>text</th>\n",
       "    </tr>\n",
       "  </thead>\n",
       "  <tbody>\n",
       "    <tr>\n",
       "      <th>6887</th>\n",
       "      <td>WATCH: New ‘Birdie’ Sanders Ad Celebrates RES...</td>\n",
       "      <td>Bernie Sanders is on fire, especially after th...</td>\n",
       "    </tr>\n",
       "    <tr>\n",
       "      <th>42454</th>\n",
       "      <td>German FinMin Schaeuble ready to head parliame...</td>\n",
       "      <td>BERLIN (Reuters) - Germany s pro-austerity Fin...</td>\n",
       "    </tr>\n",
       "    <tr>\n",
       "      <th>29714</th>\n",
       "      <td>Daily Show: Obama Has ‘No More F*cks To Give’...</td>\n",
       "      <td>Trevor Noah, host of Comedy Central s The Dail...</td>\n",
       "    </tr>\n",
       "    <tr>\n",
       "      <th>20197</th>\n",
       "      <td>Who burned the cakes? Belgian waffle fire chok...</td>\n",
       "      <td>BRUSSELS (Reuters) - The sweet smell of waffle...</td>\n",
       "    </tr>\n",
       "    <tr>\n",
       "      <th>34310</th>\n",
       "      <td>ILLEGAL ALIENS DEMAND NEW BILL OF RIGHTS: To I...</td>\n",
       "      <td>Sounds great how about a new car?An immigrant-...</td>\n",
       "    </tr>\n",
       "  </tbody>\n",
       "</table>\n",
       "</div>"
      ],
      "text/plain": [
       "                                                   title  \\\n",
       "6887    WATCH: New ‘Birdie’ Sanders Ad Celebrates RES...   \n",
       "42454  German FinMin Schaeuble ready to head parliame...   \n",
       "29714   Daily Show: Obama Has ‘No More F*cks To Give’...   \n",
       "20197  Who burned the cakes? Belgian waffle fire chok...   \n",
       "34310  ILLEGAL ALIENS DEMAND NEW BILL OF RIGHTS: To I...   \n",
       "\n",
       "                                                    text  \n",
       "6887   Bernie Sanders is on fire, especially after th...  \n",
       "42454  BERLIN (Reuters) - Germany s pro-austerity Fin...  \n",
       "29714  Trevor Noah, host of Comedy Central s The Dail...  \n",
       "20197  BRUSSELS (Reuters) - The sweet smell of waffle...  \n",
       "34310  Sounds great how about a new car?An immigrant-...  "
      ]
     },
     "execution_count": 29,
     "metadata": {},
     "output_type": "execute_result"
    }
   ],
   "source": [
    "x_train.head()"
   ]
  },
  {
   "cell_type": "code",
   "execution_count": 30,
   "id": "b411207c",
   "metadata": {},
   "outputs": [
    {
     "data": {
      "text/plain": [
       "6887     fake\n",
       "42454    true\n",
       "29714    fake\n",
       "20197    true\n",
       "34310    fake\n",
       "Name: label, dtype: object"
      ]
     },
     "execution_count": 30,
     "metadata": {},
     "output_type": "execute_result"
    }
   ],
   "source": [
    "y_train.head()"
   ]
  },
  {
   "cell_type": "markdown",
   "id": "bb885af7",
   "metadata": {},
   "source": [
    "# 3.1 Preprocessing and Text Mining "
   ]
  },
  {
   "cell_type": "markdown",
   "id": "d5691d0a",
   "metadata": {},
   "source": [
    "# TODO: Usuńmy wiersze z innymi językam"
   ]
  },
  {
   "cell_type": "code",
   "execution_count": 31,
   "id": "c9065ad6",
   "metadata": {},
   "outputs": [],
   "source": [
    "stopwor = stopwords.words('English')"
   ]
  },
  {
   "cell_type": "code",
   "execution_count": 32,
   "id": "499276e7",
   "metadata": {},
   "outputs": [],
   "source": [
    "def preprocess_text(text):\n",
    "    \n",
    "    #lowercase text\n",
    "    text = str(text) \n",
    "    text = text.lower()\n",
    "    \n",
    "    #Remove punctuation\n",
    "    text = text.translate(str.maketrans('', '', string.punctuation))\n",
    "    \n",
    "    #Remove stop words - English\n",
    "    text = ' '.join(word for word in text.split() if word not in stopwor)\n",
    "    \n",
    "    #Get rid of url\n",
    "    text = re.sub(r'https?://\\S+', '', text)\n",
    "    \n",
    "    return text"
   ]
  },
  {
   "cell_type": "code",
   "execution_count": 33,
   "id": "58d276ad",
   "metadata": {},
   "outputs": [],
   "source": [
    "def transform(x, y):\n",
    "    x['text']=x['title']+' '+x['text']\n",
    "    x=x['text']\n",
    "    x=x.apply(preprocess_text)\n",
    "    df_helper=pd.concat([x, y], axis=1)\n",
    "    df_helper = df_helper[df_helper['text'].notna()]\n",
    "    df_helper = df_helper.drop(df_helper[df_helper['text'].apply(detect)!='en'].index)\n",
    "    y_train=df_helper['label']\n",
    "    x_train=df_helper['text']\n",
    "    return x_train, y_train"
   ]
  },
  {
   "cell_type": "code",
   "execution_count": 34,
   "id": "5bab14a6",
   "metadata": {},
   "outputs": [],
   "source": [
    "x_train, y_train = transform(x_train, y_train)\n",
    "x_test, y_test = transform(x_test, y_test)"
   ]
  },
  {
   "cell_type": "code",
   "execution_count": 35,
   "id": "10e000cc",
   "metadata": {},
   "outputs": [
    {
     "data": {
      "text/plain": [
       "\"\\nclass MyTransformer(BaseEstimator, TransformerMixin):\\n    def __init__(self):\\n        pass\\n\\n    def fit(self, X, y=None):\\n        return self\\n\\n    def transform(self, X):\\n        X_copy = X.copy() \\n        X_copy['text'] = X_copy['title'] + ' ' + X_copy['text'] \\n        X_copy.drop(X_copy.columns[0], axis=1, inplace=True)  \\n        X_copy['text'] = X_copy['text'].apply(preprocess_text)\\n        return X_copy\\n\""
      ]
     },
     "execution_count": 35,
     "metadata": {},
     "output_type": "execute_result"
    }
   ],
   "source": [
    "'''\n",
    "class MyTransformer(BaseEstimator, TransformerMixin):\n",
    "    def __init__(self):\n",
    "        pass\n",
    "\n",
    "    def fit(self, X, y=None):\n",
    "        return self\n",
    "\n",
    "    def transform(self, X):\n",
    "        X_copy = X.copy() \n",
    "        X_copy['text'] = X_copy['title'] + ' ' + X_copy['text'] \n",
    "        X_copy.drop(X_copy.columns[0], axis=1, inplace=True)  \n",
    "        X_copy['text'] = X_copy['text'].apply(preprocess_text)\n",
    "        return X_copy\n",
    "'''"
   ]
  },
  {
   "cell_type": "code",
   "execution_count": 36,
   "id": "ffa81220",
   "metadata": {},
   "outputs": [],
   "source": [
    "pipeline = Pipeline([\n",
    "    ('tfidf', TfidfVectorizer())\n",
    "])"
   ]
  },
  {
   "cell_type": "code",
   "execution_count": 37,
   "id": "d9a388d7",
   "metadata": {},
   "outputs": [
    {
     "data": {
      "text/plain": [
       "Pipeline(steps=[('tfidf', TfidfVectorizer())])"
      ]
     },
     "execution_count": 37,
     "metadata": {},
     "output_type": "execute_result"
    }
   ],
   "source": [
    "pipeline.fit(x_train)"
   ]
  },
  {
   "cell_type": "code",
   "execution_count": 38,
   "id": "337123bd",
   "metadata": {},
   "outputs": [],
   "source": [
    "x_train_transformed = pipeline.transform(x_train)\n",
    "x_test_transformed = pipeline.transform(x_test)"
   ]
  },
  {
   "cell_type": "code",
   "execution_count": 39,
   "id": "7eb7243c",
   "metadata": {},
   "outputs": [
    {
     "name": "stdout",
     "output_type": "stream",
     "text": [
      "Shape of x_train_transformed: (29807, 207362)\n",
      "Shape of x_test_transformed: (12786, 207362)\n"
     ]
    }
   ],
   "source": [
    "print(f'Shape of x_train_transformed: {x_train_transformed.shape}')\n",
    "print(f'Shape of x_test_transformed: {x_test_transformed.shape}')"
   ]
  },
  {
   "cell_type": "code",
   "execution_count": 40,
   "id": "e2e24a58",
   "metadata": {},
   "outputs": [],
   "source": [
    "label_encoder = LabelEncoder().fit(y_train)"
   ]
  },
  {
   "cell_type": "code",
   "execution_count": 41,
   "id": "c412b8ec",
   "metadata": {},
   "outputs": [],
   "source": [
    "y_train_transformed = label_encoder.transform(y_train)\n",
    "y_test_transformed = label_encoder.transform(y_test)"
   ]
  },
  {
   "cell_type": "code",
   "execution_count": 42,
   "id": "60086717",
   "metadata": {},
   "outputs": [
    {
     "name": "stdout",
     "output_type": "stream",
     "text": [
      "Shape of y_train_transformed: (29807,)\n",
      "Shape of y_test_transformed: (12786,)\n"
     ]
    }
   ],
   "source": [
    "print(f'Shape of y_train_transformed: {y_train_transformed.shape}')\n",
    "print(f'Shape of y_test_transformed: {y_test_transformed.shape}')"
   ]
  },
  {
   "cell_type": "code",
   "execution_count": 43,
   "id": "4295aeb6",
   "metadata": {},
   "outputs": [],
   "source": [
    "# STEMMING - Sprawia ze slowa sa w bazowej formie -> dlugo trwa\n",
    "\n",
    "#SnowballStemmer(language='english')\n",
    "#stemmer = PorterStemmer()\n",
    "#Stem words\n",
    "#words = text.split()\n",
    "#stemmed_words = [stemmer.stem(word) for word in words]\n",
    "#text = ' '.join(stemmed_words)"
   ]
  },
  {
   "cell_type": "markdown",
   "id": "642b5160",
   "metadata": {},
   "source": [
    "# 3.2 PCA - Redukcja wymiarów"
   ]
  },
  {
   "cell_type": "code",
   "execution_count": 44,
   "id": "ac769a0d",
   "metadata": {},
   "outputs": [],
   "source": [
    "from sklearn.decomposition import TruncatedSVD"
   ]
  },
  {
   "cell_type": "code",
   "execution_count": 45,
   "id": "5c7a2636",
   "metadata": {},
   "outputs": [],
   "source": [
    "pca=TruncatedSVD(n_components=1000)"
   ]
  },
  {
   "cell_type": "code",
   "execution_count": 46,
   "id": "c236a2c1",
   "metadata": {},
   "outputs": [],
   "source": [
    "pca_x_train=pca.fit_transform(x_train_transformed)"
   ]
  },
  {
   "cell_type": "code",
   "execution_count": 47,
   "id": "bb4703be",
   "metadata": {},
   "outputs": [],
   "source": [
    "pca_x_test=pca.transform(x_test_transformed)"
   ]
  },
  {
   "cell_type": "markdown",
   "id": "ff701b55",
   "metadata": {},
   "source": [
    "# 4. Uczenie modelu"
   ]
  },
  {
   "cell_type": "markdown",
   "id": "7f6f727c",
   "metadata": {},
   "source": [
    "# 4.1 DecisionTree"
   ]
  },
  {
   "cell_type": "code",
   "execution_count": 48,
   "id": "ea62af2e",
   "metadata": {},
   "outputs": [
    {
     "data": {
      "text/plain": [
       "(29807, 207362)"
      ]
     },
     "execution_count": 48,
     "metadata": {},
     "output_type": "execute_result"
    }
   ],
   "source": [
    "x_train_transformed.shape"
   ]
  },
  {
   "cell_type": "code",
   "execution_count": 49,
   "id": "9b6f9a9c",
   "metadata": {},
   "outputs": [
    {
     "data": {
      "text/plain": [
       "(29807,)"
      ]
     },
     "execution_count": 49,
     "metadata": {},
     "output_type": "execute_result"
    }
   ],
   "source": [
    "y_train_transformed.shape"
   ]
  },
  {
   "cell_type": "code",
   "execution_count": 50,
   "id": "ef280121",
   "metadata": {},
   "outputs": [
    {
     "data": {
      "text/plain": [
       "(12786,)"
      ]
     },
     "execution_count": 50,
     "metadata": {},
     "output_type": "execute_result"
    }
   ],
   "source": [
    "y_test_transformed.shape"
   ]
  },
  {
   "cell_type": "code",
   "execution_count": 51,
   "id": "3491837c",
   "metadata": {},
   "outputs": [
    {
     "data": {
      "text/plain": [
       "(12786, 207362)"
      ]
     },
     "execution_count": 51,
     "metadata": {},
     "output_type": "execute_result"
    }
   ],
   "source": [
    "x_test_transformed.shape"
   ]
  },
  {
   "cell_type": "code",
   "execution_count": 52,
   "id": "f7ecddcb",
   "metadata": {},
   "outputs": [
    {
     "data": {
      "text/plain": [
       "DecisionTreeClassifier()"
      ]
     },
     "execution_count": 52,
     "metadata": {},
     "output_type": "execute_result"
    }
   ],
   "source": [
    "DT = DecisionTreeClassifier()\n",
    "DT.fit(x_train_transformed, y_train_transformed)"
   ]
  },
  {
   "cell_type": "code",
   "execution_count": 53,
   "id": "bd8870b7",
   "metadata": {
    "scrolled": false
   },
   "outputs": [
    {
     "data": {
      "text/plain": [
       "0.9998993525010903"
      ]
     },
     "execution_count": 53,
     "metadata": {},
     "output_type": "execute_result"
    }
   ],
   "source": [
    "DT.score(x_train_transformed, y_train_transformed)"
   ]
  },
  {
   "cell_type": "code",
   "execution_count": 54,
   "id": "66e15ab8",
   "metadata": {},
   "outputs": [
    {
     "data": {
      "text/plain": [
       "0.9318004066948224"
      ]
     },
     "execution_count": 54,
     "metadata": {},
     "output_type": "execute_result"
    }
   ],
   "source": [
    "DT.score(x_test_transformed, y_test_transformed)"
   ]
  },
  {
   "cell_type": "code",
   "execution_count": 55,
   "id": "2e5514cc",
   "metadata": {},
   "outputs": [],
   "source": [
    "#XD\n",
    "y_pred = DT.predict(x_test_transformed)\n",
    "confusion_mat = confusion_matrix(y_test_transformed, y_pred)"
   ]
  },
  {
   "cell_type": "code",
   "execution_count": 56,
   "id": "c61a69a4",
   "metadata": {},
   "outputs": [
    {
     "name": "stdout",
     "output_type": "stream",
     "text": [
      "[[6805  403]\n",
      " [ 469 5109]]\n"
     ]
    }
   ],
   "source": [
    "print(confusion_mat)"
   ]
  },
  {
   "cell_type": "markdown",
   "id": "2253dd7d",
   "metadata": {},
   "source": [
    "# 4.2 Testowanie opłacalności algorytmu PCA"
   ]
  },
  {
   "cell_type": "markdown",
   "id": "cb9be312",
   "metadata": {},
   "source": [
    "## 4.2.1 DecisionTree po PCA"
   ]
  },
  {
   "cell_type": "code",
   "execution_count": 57,
   "id": "431ced6c",
   "metadata": {},
   "outputs": [
    {
     "data": {
      "text/plain": [
       "DecisionTreeClassifier()"
      ]
     },
     "execution_count": 57,
     "metadata": {},
     "output_type": "execute_result"
    }
   ],
   "source": [
    "DT2=DecisionTreeClassifier()\n",
    "DT2.fit(pca_x_train, y_train_transformed)"
   ]
  },
  {
   "cell_type": "code",
   "execution_count": 58,
   "id": "aeb0d750",
   "metadata": {
    "scrolled": true
   },
   "outputs": [
    {
     "name": "stdout",
     "output_type": "stream",
     "text": [
      "Score dla treningowego dla DecisionTree po PCA: 0.9998993525010903\n",
      "Score dla testowego dla DecisionTree po PCA: 0.8377131237290787\n"
     ]
    },
    {
     "data": {
      "text/plain": [
       "0.8377131237290787"
      ]
     },
     "execution_count": 58,
     "metadata": {},
     "output_type": "execute_result"
    }
   ],
   "source": [
    "print(f'Score dla treningowego dla DecisionTree po PCA: {DT2.score(pca_x_train,y_train_transformed)}')\n",
    "print(f'Score dla testowego dla DecisionTree po PCA: {DT2.score(pca_x_test,y_test_transformed)}')\n",
    "\n",
    "DT2.score(pca_x_test,y_test_transformed)"
   ]
  },
  {
   "cell_type": "markdown",
   "id": "04fa8927",
   "metadata": {},
   "source": [
    "## 4.2.2 RandomForest po PCA"
   ]
  },
  {
   "cell_type": "code",
   "execution_count": 59,
   "id": "c3b562e9",
   "metadata": {},
   "outputs": [
    {
     "data": {
      "text/plain": [
       "RandomForestClassifier()"
      ]
     },
     "execution_count": 59,
     "metadata": {},
     "output_type": "execute_result"
    }
   ],
   "source": [
    "RF2 = RandomForestClassifier()\n",
    "RF2.fit(pca_x_train, y_train_transformed)"
   ]
  },
  {
   "cell_type": "code",
   "execution_count": 60,
   "id": "676ed27f",
   "metadata": {},
   "outputs": [
    {
     "name": "stdout",
     "output_type": "stream",
     "text": [
      "Score dla treningowego dla RandomForest po PCA: 0.9998658033347871\n",
      "Score dla testowego dla RandomForest po PCA: 0.9015329266385109\n"
     ]
    }
   ],
   "source": [
    "print(f'Score dla treningowego dla RandomForest po PCA: {RF2.score(pca_x_train,y_train_transformed)}')\n",
    "print(f'Score dla testowego dla RandomForest po PCA: {RF2.score(pca_x_test,y_test_transformed)}')"
   ]
  },
  {
   "cell_type": "code",
   "execution_count": 61,
   "id": "9492c772",
   "metadata": {
    "scrolled": true
   },
   "outputs": [
    {
     "data": {
      "image/png": "[encoded data removed]",
      "text/plain": [
       "<Figure size 640x480 with 2 Axes>"
      ]
     },
     "metadata": {},
     "output_type": "display_data"
    }
   ],
   "source": [
    "y_pred = RF2.predict(pca_x_test)\n",
    "confusion_mat = confusion_matrix(y_test_transformed, y_pred)\n",
    "ax = sns.heatmap(confusion_mat, annot=True)\n",
    "ax.set(xlabel='True Label', ylabel='Prediction Label')\n",
    "plt.show()"
   ]
  },
  {
   "cell_type": "markdown",
   "id": "3f0f74a8",
   "metadata": {},
   "source": [
    "# 4.3 RandomForest"
   ]
  },
  {
   "cell_type": "code",
   "execution_count": 62,
   "id": "1ea01482",
   "metadata": {},
   "outputs": [
    {
     "data": {
      "text/plain": [
       "RandomForestClassifier()"
      ]
     },
     "execution_count": 62,
     "metadata": {},
     "output_type": "execute_result"
    }
   ],
   "source": [
    "rf = RandomForestClassifier()\n",
    "rf.fit(x_train_transformed, y_train_transformed)"
   ]
  },
  {
   "cell_type": "code",
   "execution_count": 63,
   "id": "c4d2ef40",
   "metadata": {},
   "outputs": [
    {
     "name": "stdout",
     "output_type": "stream",
     "text": [
      "Score dla treningowego dla RandomForest: 0.9998993525010903\n",
      "Score dla testowego dla RandomForest: 0.9292194587830439\n"
     ]
    }
   ],
   "source": [
    "print(f'Score dla treningowego dla RandomForest: {rf.score(x_train_transformed,y_train_transformed)}')\n",
    "print(f'Score dla testowego dla RandomForest: {rf.score(x_test_transformed,y_test_transformed)}')"
   ]
  },
  {
   "cell_type": "code",
   "execution_count": 64,
   "id": "0b0471e0",
   "metadata": {},
   "outputs": [
    {
     "data": {
      "image/png": "[encoded data removed]",
      "text/plain": [
       "<Figure size 640x480 with 2 Axes>"
      ]
     },
     "metadata": {},
     "output_type": "display_data"
    }
   ],
   "source": [
    "y_pred = rf.predict(x_test_transformed)\n",
    "confusion_mat = confusion_matrix(y_test_transformed, y_pred)\n",
    "ax = sns.heatmap(confusion_mat, annot=True)\n",
    "ax.set(xlabel='True Label', ylabel='Prediction Label')\n",
    "plt.show()"
   ]
  },
  {
   "cell_type": "code",
   "execution_count": 65,
   "id": "2da59edd",
   "metadata": {},
   "outputs": [
    {
     "name": "stdout",
     "output_type": "stream",
     "text": [
      "              precision    recall  f1-score   support\n",
      "\n",
      "           0       0.96      0.92      0.94      7525\n",
      "           1       0.89      0.94      0.92      5261\n",
      "\n",
      "    accuracy                           0.93     12786\n",
      "   macro avg       0.92      0.93      0.93     12786\n",
      "weighted avg       0.93      0.93      0.93     12786\n",
      "\n"
     ]
    }
   ],
   "source": [
    "print(classification_report(y_pred,y_test_transformed))"
   ]
  },
  {
   "cell_type": "markdown",
   "id": "2403d1e4",
   "metadata": {},
   "source": [
    "# 4.4 XGboost"
   ]
  },
  {
   "cell_type": "code",
   "execution_count": 66,
   "id": "85c1bd22",
   "metadata": {},
   "outputs": [
    {
     "data": {
      "text/plain": [
       "XGBClassifier(base_score=None, booster=None, callbacks=None,\n",
       "              colsample_bylevel=None, colsample_bynode=None,\n",
       "              colsample_bytree=None, early_stopping_rounds=None,\n",
       "              enable_categorical=False, eval_metric=None, feature_types=None,\n",
       "              gamma=None, gpu_id=None, grow_policy=None, importance_type=None,\n",
       "              interaction_constraints=None, learning_rate=None, max_bin=None,\n",
       "              max_cat_threshold=None, max_cat_to_onehot=None,\n",
       "              max_delta_step=None, max_depth=None, max_leaves=None,\n",
       "              min_child_weight=None, missing=nan, monotone_constraints=None,\n",
       "              n_estimators=100, n_jobs=None, num_parallel_tree=None,\n",
       "              predictor=None, random_state=None, ...)"
      ]
     },
     "execution_count": 66,
     "metadata": {},
     "output_type": "execute_result"
    }
   ],
   "source": [
    "xgb_classifier = xgb.XGBClassifier()\n",
    "xgb_classifier.fit(x_train_transformed,y_train_transformed)"
   ]
  },
  {
   "cell_type": "code",
   "execution_count": 67,
   "id": "46ecc820",
   "metadata": {},
   "outputs": [
    {
     "name": "stdout",
     "output_type": "stream",
     "text": [
      "Score dla treningowego dla XGboost: 0.9924178884154728\n",
      "Score dla testowego dla XGboost: 0.9616768340372283\n"
     ]
    }
   ],
   "source": [
    "print(f'Score dla treningowego dla XGboost: {xgb_classifier.score(x_train_transformed,y_train_transformed)}')\n",
    "print(f'Score dla testowego dla XGboost: {xgb_classifier.score(x_test_transformed,y_test_transformed)}')"
   ]
  },
  {
   "cell_type": "code",
   "execution_count": 68,
   "id": "a6a9732d",
   "metadata": {},
   "outputs": [
    {
     "name": "stdout",
     "output_type": "stream",
     "text": [
      "              precision    recall  f1-score   support\n",
      "\n",
      "           0       0.96      0.92      0.94      7525\n",
      "           1       0.89      0.94      0.92      5261\n",
      "\n",
      "    accuracy                           0.93     12786\n",
      "   macro avg       0.92      0.93      0.93     12786\n",
      "weighted avg       0.93      0.93      0.93     12786\n",
      "\n"
     ]
    }
   ],
   "source": [
    "print(classification_report(y_pred,y_test_transformed))"
   ]
  },
  {
   "cell_type": "markdown",
   "id": "3c66d6fe",
   "metadata": {},
   "source": [
    "# 5. Strojenie hiperparametrów"
   ]
  },
  {
   "cell_type": "code",
   "execution_count": null,
   "id": "ee503a0e",
   "metadata": {},
   "outputs": [],
   "source": []
  }
 ],
 "metadata": {
  "kernelspec": {
   "display_name": "Python 3 (ipykernel)",
   "language": "python",
   "name": "python3"
  },
  "language_info": {
   "codemirror_mode": {
    "name": "ipython",
    "version": 3
   },
   "file_extension": ".py",
   "mimetype": "text/x-python",
   "name": "python",
   "nbconvert_exporter": "python",
   "pygments_lexer": "ipython3",
   "version": "3.9.13"
  }
 },
 "nbformat": 4,
 "nbformat_minor": 5
}
