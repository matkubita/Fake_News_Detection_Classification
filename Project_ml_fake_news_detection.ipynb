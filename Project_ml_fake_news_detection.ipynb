{
 "cells": [
  {
   "cell_type": "code",
   "execution_count": 1,
   "id": "cc4fc234",
   "metadata": {},
   "outputs": [],
   "source": [
    "#importowanie bibliotek\n",
    "import numpy as np\n",
    "import pandas as pd\n",
    "import matplotlib.pyplot as plt\n",
    "import seaborn as sns\n",
    "from sklearn.model_selection import train_test_split\n",
    "from sklearn import preprocessing\n",
    "from sklearn.metrics import confusion_matrix\n",
    "from sklearn.feature_extraction.text import TfidfVectorizer\n",
    "from sklearn.preprocessing import StandardScaler, FunctionTransformer, LabelEncoder\n",
    "from nltk.stem.porter import PorterStemmer\n",
    "import nltk\n",
    "from nltk.corpus import stopwords\n",
    "import re\n",
    "import string\n",
    "from sklearn.tree import DecisionTreeClassifier\n",
    "from sklearn.base import BaseEstimator, TransformerMixin\n",
    "from sklearn.pipeline import Pipeline\n",
    "from sklearn.compose import ColumnTransformer\n",
    "from sklearn.preprocessing import LabelEncoder\n",
    "from sklearn.ensemble import RandomForestClassifier\n",
    "\n",
    "import warnings\n",
    "warnings.filterwarnings('ignore')\n"
   ]
  },
  {
   "cell_type": "code",
   "execution_count": 2,
   "id": "e3790084",
   "metadata": {},
   "outputs": [],
   "source": [
    "df = pd.read_csv(\"PreProcessedData.csv\")"
   ]
  },
  {
   "cell_type": "code",
   "execution_count": 3,
   "id": "12cb20d1",
   "metadata": {},
   "outputs": [],
   "source": [
    "df = df.sample(frac=0.5) #zeby szybciej sie uczylo, potem wezmiemy calosc"
   ]
  },
  {
   "cell_type": "code",
   "execution_count": 4,
   "id": "b117d0e7",
   "metadata": {
    "scrolled": true
   },
   "outputs": [
    {
     "data": {
      "text/html": [
       "<div>\n",
       "<style scoped>\n",
       "    .dataframe tbody tr th:only-of-type {\n",
       "        vertical-align: middle;\n",
       "    }\n",
       "\n",
       "    .dataframe tbody tr th {\n",
       "        vertical-align: top;\n",
       "    }\n",
       "\n",
       "    .dataframe thead th {\n",
       "        text-align: right;\n",
       "    }\n",
       "</style>\n",
       "<table border=\"1\" class=\"dataframe\">\n",
       "  <thead>\n",
       "    <tr style=\"text-align: right;\">\n",
       "      <th></th>\n",
       "      <th>Unnamed: 0</th>\n",
       "      <th>title</th>\n",
       "      <th>text</th>\n",
       "      <th>Ground Label</th>\n",
       "    </tr>\n",
       "  </thead>\n",
       "  <tbody>\n",
       "    <tr>\n",
       "      <th>44755</th>\n",
       "      <td>44755</td>\n",
       "      <td>Hecklers disrupt Trump rally, photographer sho...</td>\n",
       "      <td>WASHINGTON - A Donald Trump rally in Virginia ...</td>\n",
       "      <td>true</td>\n",
       "    </tr>\n",
       "    <tr>\n",
       "      <th>9675</th>\n",
       "      <td>9675</td>\n",
       "      <td>BREAKING: WOMEN, MEN ARRESTED After MAJOR BRAW...</td>\n",
       "      <td>The moral decay of our nation continues full s...</td>\n",
       "      <td>fake</td>\n",
       "    </tr>\n",
       "    <tr>\n",
       "      <th>4274</th>\n",
       "      <td>4274</td>\n",
       "      <td>OBAMA’S BAILOUT OF PUERTO RICO: TAXPAYERS Take...</td>\n",
       "      <td>Puerto Rico is getting a HUGE bailout from the...</td>\n",
       "      <td>fake</td>\n",
       "    </tr>\n",
       "    <tr>\n",
       "      <th>649</th>\n",
       "      <td>649</td>\n",
       "      <td>‘A DELIRIUM IS SPREADING’ – The Left’s Great R...</td>\n",
       "      <td>The very people who for years talked about th...</td>\n",
       "      <td>fake</td>\n",
       "    </tr>\n",
       "    <tr>\n",
       "      <th>14658</th>\n",
       "      <td>14658</td>\n",
       "      <td>6.3 earthquake, Central Italy! (earlier was M5.6)</td>\n",
       "      <td>6.3 earthquake, Central Italy! (earlier was M5...</td>\n",
       "      <td>fake</td>\n",
       "    </tr>\n",
       "  </tbody>\n",
       "</table>\n",
       "</div>"
      ],
      "text/plain": [
       "       Unnamed: 0                                              title  \\\n",
       "44755       44755  Hecklers disrupt Trump rally, photographer sho...   \n",
       "9675         9675  BREAKING: WOMEN, MEN ARRESTED After MAJOR BRAW...   \n",
       "4274         4274  OBAMA’S BAILOUT OF PUERTO RICO: TAXPAYERS Take...   \n",
       "649           649  ‘A DELIRIUM IS SPREADING’ – The Left’s Great R...   \n",
       "14658       14658  6.3 earthquake, Central Italy! (earlier was M5.6)   \n",
       "\n",
       "                                                    text Ground Label  \n",
       "44755  WASHINGTON - A Donald Trump rally in Virginia ...         true  \n",
       "9675   The moral decay of our nation continues full s...         fake  \n",
       "4274   Puerto Rico is getting a HUGE bailout from the...         fake  \n",
       "649     The very people who for years talked about th...         fake  \n",
       "14658  6.3 earthquake, Central Italy! (earlier was M5...         fake  "
      ]
     },
     "execution_count": 4,
     "metadata": {},
     "output_type": "execute_result"
    }
   ],
   "source": [
    "df.head()"
   ]
  },
  {
   "cell_type": "code",
   "execution_count": 5,
   "id": "cfb5cc3d",
   "metadata": {},
   "outputs": [],
   "source": [
    "df.rename(columns = {'Ground Label': 'label'},inplace=True)"
   ]
  },
  {
   "cell_type": "code",
   "execution_count": 6,
   "id": "d0c5b07a",
   "metadata": {},
   "outputs": [],
   "source": [
    "#usunm ta jedna kolumne bo jest useless\n",
    "df.drop(df.columns[0], inplace=True, axis=1)"
   ]
  },
  {
   "cell_type": "code",
   "execution_count": 7,
   "id": "ffd8c76d",
   "metadata": {},
   "outputs": [
    {
     "data": {
      "text/html": [
       "<div>\n",
       "<style scoped>\n",
       "    .dataframe tbody tr th:only-of-type {\n",
       "        vertical-align: middle;\n",
       "    }\n",
       "\n",
       "    .dataframe tbody tr th {\n",
       "        vertical-align: top;\n",
       "    }\n",
       "\n",
       "    .dataframe thead th {\n",
       "        text-align: right;\n",
       "    }\n",
       "</style>\n",
       "<table border=\"1\" class=\"dataframe\">\n",
       "  <thead>\n",
       "    <tr style=\"text-align: right;\">\n",
       "      <th></th>\n",
       "      <th>title</th>\n",
       "      <th>text</th>\n",
       "      <th>label</th>\n",
       "    </tr>\n",
       "  </thead>\n",
       "  <tbody>\n",
       "    <tr>\n",
       "      <th>44755</th>\n",
       "      <td>Hecklers disrupt Trump rally, photographer sho...</td>\n",
       "      <td>WASHINGTON - A Donald Trump rally in Virginia ...</td>\n",
       "      <td>true</td>\n",
       "    </tr>\n",
       "    <tr>\n",
       "      <th>9675</th>\n",
       "      <td>BREAKING: WOMEN, MEN ARRESTED After MAJOR BRAW...</td>\n",
       "      <td>The moral decay of our nation continues full s...</td>\n",
       "      <td>fake</td>\n",
       "    </tr>\n",
       "    <tr>\n",
       "      <th>4274</th>\n",
       "      <td>OBAMA’S BAILOUT OF PUERTO RICO: TAXPAYERS Take...</td>\n",
       "      <td>Puerto Rico is getting a HUGE bailout from the...</td>\n",
       "      <td>fake</td>\n",
       "    </tr>\n",
       "    <tr>\n",
       "      <th>649</th>\n",
       "      <td>‘A DELIRIUM IS SPREADING’ – The Left’s Great R...</td>\n",
       "      <td>The very people who for years talked about th...</td>\n",
       "      <td>fake</td>\n",
       "    </tr>\n",
       "    <tr>\n",
       "      <th>14658</th>\n",
       "      <td>6.3 earthquake, Central Italy! (earlier was M5.6)</td>\n",
       "      <td>6.3 earthquake, Central Italy! (earlier was M5...</td>\n",
       "      <td>fake</td>\n",
       "    </tr>\n",
       "  </tbody>\n",
       "</table>\n",
       "</div>"
      ],
      "text/plain": [
       "                                                   title  \\\n",
       "44755  Hecklers disrupt Trump rally, photographer sho...   \n",
       "9675   BREAKING: WOMEN, MEN ARRESTED After MAJOR BRAW...   \n",
       "4274   OBAMA’S BAILOUT OF PUERTO RICO: TAXPAYERS Take...   \n",
       "649    ‘A DELIRIUM IS SPREADING’ – The Left’s Great R...   \n",
       "14658  6.3 earthquake, Central Italy! (earlier was M5.6)   \n",
       "\n",
       "                                                    text label  \n",
       "44755  WASHINGTON - A Donald Trump rally in Virginia ...  true  \n",
       "9675   The moral decay of our nation continues full s...  fake  \n",
       "4274   Puerto Rico is getting a HUGE bailout from the...  fake  \n",
       "649     The very people who for years talked about th...  fake  \n",
       "14658  6.3 earthquake, Central Italy! (earlier was M5...  fake  "
      ]
     },
     "execution_count": 7,
     "metadata": {},
     "output_type": "execute_result"
    }
   ],
   "source": [
    "df.head()"
   ]
  },
  {
   "cell_type": "markdown",
   "id": "e1458008",
   "metadata": {},
   "source": [
    "# 1. Analiza całokształtu zadania - CEL"
   ]
  },
  {
   "cell_type": "code",
   "execution_count": 8,
   "id": "c2c9594f",
   "metadata": {},
   "outputs": [],
   "source": [
    "#Cel: mamy title newsa, text i ground label czyli informacje czy to jest fake czy nie -> \n",
    "#musimy stworzyc model klasyfikacji ktory bedzie to stwierdzac"
   ]
  },
  {
   "cell_type": "code",
   "execution_count": 9,
   "id": "3876b9ec",
   "metadata": {},
   "outputs": [],
   "source": [
    "# TODO => TRZEBA ZROBIC PIPELINE!"
   ]
  },
  {
   "cell_type": "markdown",
   "id": "77995143",
   "metadata": {},
   "source": [
    "# 2. Wizualizacja danych"
   ]
  },
  {
   "cell_type": "code",
   "execution_count": 10,
   "id": "87cef752",
   "metadata": {},
   "outputs": [
    {
     "name": "stdout",
     "output_type": "stream",
     "text": [
      "<class 'pandas.core.frame.DataFrame'>\n",
      "Int64Index: 34522 entries, 44755 to 45070\n",
      "Data columns (total 3 columns):\n",
      " #   Column  Non-Null Count  Dtype \n",
      "---  ------  --------------  ----- \n",
      " 0   title   34183 non-null  object\n",
      " 1   text    34492 non-null  object\n",
      " 2   label   34522 non-null  object\n",
      "dtypes: object(3)\n",
      "memory usage: 1.1+ MB\n"
     ]
    }
   ],
   "source": [
    "df.info()"
   ]
  },
  {
   "cell_type": "code",
   "execution_count": 11,
   "id": "a922e684",
   "metadata": {
    "scrolled": false
   },
   "outputs": [
    {
     "data": {
      "text/plain": [
       "(34522, 3)"
      ]
     },
     "execution_count": 11,
     "metadata": {},
     "output_type": "execute_result"
    }
   ],
   "source": [
    "df.shape"
   ]
  },
  {
   "cell_type": "code",
   "execution_count": 12,
   "id": "a883414a",
   "metadata": {
    "scrolled": true
   },
   "outputs": [
    {
     "data": {
      "text/plain": [
       "fake    21243\n",
       "true    13279\n",
       "Name: label, dtype: int64"
      ]
     },
     "execution_count": 12,
     "metadata": {},
     "output_type": "execute_result"
    }
   ],
   "source": [
    "df['label'].value_counts()"
   ]
  },
  {
   "cell_type": "code",
   "execution_count": 13,
   "id": "61f98bbf",
   "metadata": {},
   "outputs": [
    {
     "data": {
      "image/png": "[encoded data removed]",
      "text/plain": [
       "<Figure size 640x480 with 1 Axes>"
      ]
     },
     "metadata": {},
     "output_type": "display_data"
    }
   ],
   "source": [
    "sns.countplot(df['label'])\n",
    "plt.title('Number of fake news and true news')\n",
    "plt.show()"
   ]
  },
  {
   "cell_type": "code",
   "execution_count": 14,
   "id": "c1967011",
   "metadata": {},
   "outputs": [
    {
     "data": {
      "image/png": "[encoded data removed]",
      "text/plain": [
       "<Figure size 640x480 with 1 Axes>"
      ]
     },
     "metadata": {},
     "output_type": "display_data"
    }
   ],
   "source": [
    "df['title'].str.len().hist(bins=[0,3,20,50,75,100,150,200,300,400])\n",
    "plt.title('Histogram - TITLE length')\n",
    "plt.show()"
   ]
  },
  {
   "cell_type": "code",
   "execution_count": 15,
   "id": "b80f34d5",
   "metadata": {},
   "outputs": [
    {
     "data": {
      "image/png": "[encoded data removed]",
      "text/plain": [
       "<Figure size 640x480 with 1 Axes>"
      ]
     },
     "metadata": {},
     "output_type": "display_data"
    }
   ],
   "source": [
    "df['text'].str.len().hist(bins=[0,50,200,300,1000,2000,3000,5000,20000,90000])\n",
    "plt.title('Histogram - TEXT length')\n",
    "plt.show()"
   ]
  },
  {
   "cell_type": "code",
   "execution_count": 16,
   "id": "88ee481f",
   "metadata": {},
   "outputs": [
    {
     "data": {
      "text/plain": [
       "title    339\n",
       "text      30\n",
       "label      0\n",
       "dtype: int64"
      ]
     },
     "execution_count": 16,
     "metadata": {},
     "output_type": "execute_result"
    }
   ],
   "source": [
    "df.isna().sum() #te co nie maja tekstu - usunmy najlepiej, a tytulu doklejmy do textu"
   ]
  },
  {
   "cell_type": "code",
   "execution_count": 17,
   "id": "4a8c5544",
   "metadata": {},
   "outputs": [
    {
     "data": {
      "image/png": "[encoded data removed]",
      "text/plain": [
       "<Figure size 2000x1000 with 2 Axes>"
      ]
     },
     "metadata": {},
     "output_type": "display_data"
    }
   ],
   "source": [
    "#average title length in each text\n",
    "fig,(ax1,ax2)=plt.subplots(1,2,figsize=(20,10))\n",
    "\n",
    "len_word_true=df[df['label']=='true']['title'].str.len()\n",
    "sns.distplot(len_word_true.map(lambda x: np.mean(x)),ax=ax1,color='green')\n",
    "ax1.set_xlim([0,250])\n",
    "ax1.set_title('Original title')\n",
    "\n",
    "len_word_false=df[df['label']=='fake']['title'].str.len()\n",
    "sns.distplot(len_word_false.map(lambda x: np.mean(x)),ax=ax2,color='red')\n",
    "ax2.set_xlim([0,250])\n",
    "ax2.set_title('Fake text')\n",
    "\n",
    "fig.suptitle('Average title length in each text')\n",
    "\n",
    "plt.show()"
   ]
  },
  {
   "cell_type": "code",
   "execution_count": 18,
   "id": "5967fcba",
   "metadata": {},
   "outputs": [
    {
     "data": {
      "image/png": "[encoded data removed]",
      "text/plain": [
       "<Figure size 2000x1000 with 2 Axes>"
      ]
     },
     "metadata": {},
     "output_type": "display_data"
    }
   ],
   "source": [
    "#average word length in each text\n",
    "fig,(ax1,ax2)=plt.subplots(1,2,figsize=(20,10))\n",
    "len_word_true=df[df['label']=='true']['text'].str.len()\n",
    "sns.distplot(len_word_true.map(lambda x: np.mean(x)),ax=ax1,color='green')\n",
    "ax1.set_title('Original text')\n",
    "ax1.set_xlim([-100,20000])\n",
    "\n",
    "len_word_false=df[df['label']=='fake']['text'].str.len()\n",
    "sns.distplot(len_word_false.map(lambda x: np.mean(x)),ax=ax2,color='red')\n",
    "ax2.set_title('Fake text')\n",
    "\n",
    "fig.suptitle('Average text length in each text')\n",
    "ax2.set_xlim([-100,20000])\n",
    "plt.show()"
   ]
  },
  {
   "cell_type": "code",
   "execution_count": 19,
   "id": "842dec04",
   "metadata": {},
   "outputs": [
    {
     "data": {
      "text/html": [
       "<div>\n",
       "<style scoped>\n",
       "    .dataframe tbody tr th:only-of-type {\n",
       "        vertical-align: middle;\n",
       "    }\n",
       "\n",
       "    .dataframe tbody tr th {\n",
       "        vertical-align: top;\n",
       "    }\n",
       "\n",
       "    .dataframe thead th {\n",
       "        text-align: right;\n",
       "    }\n",
       "</style>\n",
       "<table border=\"1\" class=\"dataframe\">\n",
       "  <thead>\n",
       "    <tr style=\"text-align: right;\">\n",
       "      <th></th>\n",
       "      <th>title</th>\n",
       "      <th>text</th>\n",
       "      <th>label</th>\n",
       "    </tr>\n",
       "  </thead>\n",
       "  <tbody>\n",
       "    <tr>\n",
       "      <th>2098</th>\n",
       "      <td>Live Soirée présidentielle US 2016 &gt;&gt; Le Gorafi</td>\n",
       "      <td>NaN</td>\n",
       "      <td>fake</td>\n",
       "    </tr>\n",
       "    <tr>\n",
       "      <th>30218</th>\n",
       "      <td>Des millions d’Américains recherchent massivem...</td>\n",
       "      <td>NaN</td>\n",
       "      <td>fake</td>\n",
       "    </tr>\n",
       "    <tr>\n",
       "      <th>38237</th>\n",
       "      <td>Trop essoufflé après avoir cherché ses affaire...</td>\n",
       "      <td>NaN</td>\n",
       "      <td>fake</td>\n",
       "    </tr>\n",
       "    <tr>\n",
       "      <th>16401</th>\n",
       "      <td>Des traces de vin rouge détectées dans le Beau...</td>\n",
       "      <td>NaN</td>\n",
       "      <td>fake</td>\n",
       "    </tr>\n",
       "    <tr>\n",
       "      <th>46803</th>\n",
       "      <td>Heureux et souriant, il a la chance de toujour...</td>\n",
       "      <td>NaN</td>\n",
       "      <td>fake</td>\n",
       "    </tr>\n",
       "    <tr>\n",
       "      <th>29647</th>\n",
       "      <td>10/6: HBD Eddie, Tom, Gene, Jeff, Joel &amp; Radha...</td>\n",
       "      <td>NaN</td>\n",
       "      <td>fake</td>\n",
       "    </tr>\n",
       "    <tr>\n",
       "      <th>27689</th>\n",
       "      <td>La voyante lisait l’avenir dans les cartes ble...</td>\n",
       "      <td>NaN</td>\n",
       "      <td>fake</td>\n",
       "    </tr>\n",
       "    <tr>\n",
       "      <th>15872</th>\n",
       "      <td>SPA : Enfermé depuis trois jours dans une cage...</td>\n",
       "      <td>NaN</td>\n",
       "      <td>fake</td>\n",
       "    </tr>\n",
       "    <tr>\n",
       "      <th>47324</th>\n",
       "      <td>La Trump Tower cambriolée – les voleurs seraie...</td>\n",
       "      <td>NaN</td>\n",
       "      <td>fake</td>\n",
       "    </tr>\n",
       "    <tr>\n",
       "      <th>22446</th>\n",
       "      <td>Donald Trump en 5 dates &gt;&gt; Le Gorafi</td>\n",
       "      <td>NaN</td>\n",
       "      <td>fake</td>\n",
       "    </tr>\n",
       "    <tr>\n",
       "      <th>44588</th>\n",
       "      <td>Ron Paul on Trump, Anarchism &amp; the AltRight</td>\n",
       "      <td>NaN</td>\n",
       "      <td>fake</td>\n",
       "    </tr>\n",
       "    <tr>\n",
       "      <th>38417</th>\n",
       "      <td>Hunting the terror group from 70,000ft</td>\n",
       "      <td>NaN</td>\n",
       "      <td>true</td>\n",
       "    </tr>\n",
       "    <tr>\n",
       "      <th>68252</th>\n",
       "      <td>Ne supportant plus l’ambiance de la campagne é...</td>\n",
       "      <td>NaN</td>\n",
       "      <td>fake</td>\n",
       "    </tr>\n",
       "    <tr>\n",
       "      <th>50536</th>\n",
       "      <td>10 Shocking Facts About Porn You Probably Didn...</td>\n",
       "      <td>NaN</td>\n",
       "      <td>fake</td>\n",
       "    </tr>\n",
       "    <tr>\n",
       "      <th>29771</th>\n",
       "      <td>Horoscope du 14 novembre 2016 &gt;&gt; Le Gorafi</td>\n",
       "      <td>NaN</td>\n",
       "      <td>fake</td>\n",
       "    </tr>\n",
       "    <tr>\n",
       "      <th>38878</th>\n",
       "      <td>Une fan demande le remboursement de son tatoua...</td>\n",
       "      <td>NaN</td>\n",
       "      <td>fake</td>\n",
       "    </tr>\n",
       "    <tr>\n",
       "      <th>56234</th>\n",
       "      <td>Il se fait cryogéniser dans l’espoir de voir u...</td>\n",
       "      <td>NaN</td>\n",
       "      <td>fake</td>\n",
       "    </tr>\n",
       "    <tr>\n",
       "      <th>56044</th>\n",
       "      <td>Les gardes-frontières se mettent en alerte pou...</td>\n",
       "      <td>NaN</td>\n",
       "      <td>fake</td>\n",
       "    </tr>\n",
       "    <tr>\n",
       "      <th>31292</th>\n",
       "      <td>10/5 TRS-PNC Park: Bucs Win in '71, '79; Lose ...</td>\n",
       "      <td>NaN</td>\n",
       "      <td>fake</td>\n",
       "    </tr>\n",
       "    <tr>\n",
       "      <th>6510</th>\n",
       "      <td>Why Federalization In Syria And The Creation O...</td>\n",
       "      <td>NaN</td>\n",
       "      <td>fake</td>\n",
       "    </tr>\n",
       "    <tr>\n",
       "      <th>28678</th>\n",
       "      <td>Read Al Green's Resolution to Impeach Donald T...</td>\n",
       "      <td>NaN</td>\n",
       "      <td>true</td>\n",
       "    </tr>\n",
       "    <tr>\n",
       "      <th>50509</th>\n",
       "      <td>Sur Twitter, Donald Trump se félicite d’avoir ...</td>\n",
       "      <td>NaN</td>\n",
       "      <td>fake</td>\n",
       "    </tr>\n",
       "    <tr>\n",
       "      <th>52331</th>\n",
       "      <td>Vendée Globe – Un skipper fait demi-tour après...</td>\n",
       "      <td>NaN</td>\n",
       "      <td>fake</td>\n",
       "    </tr>\n",
       "    <tr>\n",
       "      <th>65006</th>\n",
       "      <td>Nous avons comparé les programmes d’Alain Jupp...</td>\n",
       "      <td>NaN</td>\n",
       "      <td>fake</td>\n",
       "    </tr>\n",
       "    <tr>\n",
       "      <th>739</th>\n",
       "      <td>10/3 Happenings: HBD Cap, Johnny, Dog, Tomato,...</td>\n",
       "      <td>NaN</td>\n",
       "      <td>fake</td>\n",
       "    </tr>\n",
       "    <tr>\n",
       "      <th>55527</th>\n",
       "      <td>Horoscope du 21 novembre 2016 &gt;&gt; Le Gorafi</td>\n",
       "      <td>NaN</td>\n",
       "      <td>fake</td>\n",
       "    </tr>\n",
       "    <tr>\n",
       "      <th>27463</th>\n",
       "      <td>10/5 Expo Park-Forbes Field: Bucs Win '60 Open...</td>\n",
       "      <td>NaN</td>\n",
       "      <td>fake</td>\n",
       "    </tr>\n",
       "    <tr>\n",
       "      <th>10078</th>\n",
       "      <td>The Prophet of Germany’s New Right</td>\n",
       "      <td>NaN</td>\n",
       "      <td>true</td>\n",
       "    </tr>\n",
       "    <tr>\n",
       "      <th>10701</th>\n",
       "      <td>New U.N. Report Cites Terrorists, Blames Assad...</td>\n",
       "      <td>NaN</td>\n",
       "      <td>fake</td>\n",
       "    </tr>\n",
       "    <tr>\n",
       "      <th>63780</th>\n",
       "      <td>Grand-Prix du Brésil – Romain Grosjean obtient...</td>\n",
       "      <td>NaN</td>\n",
       "      <td>fake</td>\n",
       "    </tr>\n",
       "  </tbody>\n",
       "</table>\n",
       "</div>"
      ],
      "text/plain": [
       "                                                   title text label\n",
       "2098     Live Soirée présidentielle US 2016 >> Le Gorafi  NaN  fake\n",
       "30218  Des millions d’Américains recherchent massivem...  NaN  fake\n",
       "38237  Trop essoufflé après avoir cherché ses affaire...  NaN  fake\n",
       "16401  Des traces de vin rouge détectées dans le Beau...  NaN  fake\n",
       "46803  Heureux et souriant, il a la chance de toujour...  NaN  fake\n",
       "29647  10/6: HBD Eddie, Tom, Gene, Jeff, Joel & Radha...  NaN  fake\n",
       "27689  La voyante lisait l’avenir dans les cartes ble...  NaN  fake\n",
       "15872  SPA : Enfermé depuis trois jours dans une cage...  NaN  fake\n",
       "47324  La Trump Tower cambriolée – les voleurs seraie...  NaN  fake\n",
       "22446               Donald Trump en 5 dates >> Le Gorafi  NaN  fake\n",
       "44588        Ron Paul on Trump, Anarchism & the AltRight  NaN  fake\n",
       "38417             Hunting the terror group from 70,000ft  NaN  true\n",
       "68252  Ne supportant plus l’ambiance de la campagne é...  NaN  fake\n",
       "50536  10 Shocking Facts About Porn You Probably Didn...  NaN  fake\n",
       "29771         Horoscope du 14 novembre 2016 >> Le Gorafi  NaN  fake\n",
       "38878  Une fan demande le remboursement de son tatoua...  NaN  fake\n",
       "56234  Il se fait cryogéniser dans l’espoir de voir u...  NaN  fake\n",
       "56044  Les gardes-frontières se mettent en alerte pou...  NaN  fake\n",
       "31292  10/5 TRS-PNC Park: Bucs Win in '71, '79; Lose ...  NaN  fake\n",
       "6510   Why Federalization In Syria And The Creation O...  NaN  fake\n",
       "28678  Read Al Green's Resolution to Impeach Donald T...  NaN  true\n",
       "50509  Sur Twitter, Donald Trump se félicite d’avoir ...  NaN  fake\n",
       "52331  Vendée Globe – Un skipper fait demi-tour après...  NaN  fake\n",
       "65006  Nous avons comparé les programmes d’Alain Jupp...  NaN  fake\n",
       "739    10/3 Happenings: HBD Cap, Johnny, Dog, Tomato,...  NaN  fake\n",
       "55527         Horoscope du 21 novembre 2016 >> Le Gorafi  NaN  fake\n",
       "27463  10/5 Expo Park-Forbes Field: Bucs Win '60 Open...  NaN  fake\n",
       "10078                 The Prophet of Germany’s New Right  NaN  true\n",
       "10701  New U.N. Report Cites Terrorists, Blames Assad...  NaN  fake\n",
       "63780  Grand-Prix du Brésil – Romain Grosjean obtient...  NaN  fake"
      ]
     },
     "execution_count": 19,
     "metadata": {},
     "output_type": "execute_result"
    }
   ],
   "source": [
    "df.loc[df['text'].isna()]"
   ]
  },
  {
   "cell_type": "code",
   "execution_count": 20,
   "id": "4b0a25e1",
   "metadata": {},
   "outputs": [
    {
     "data": {
      "text/html": [
       "<div>\n",
       "<style scoped>\n",
       "    .dataframe tbody tr th:only-of-type {\n",
       "        vertical-align: middle;\n",
       "    }\n",
       "\n",
       "    .dataframe tbody tr th {\n",
       "        vertical-align: top;\n",
       "    }\n",
       "\n",
       "    .dataframe thead th {\n",
       "        text-align: right;\n",
       "    }\n",
       "</style>\n",
       "<table border=\"1\" class=\"dataframe\">\n",
       "  <thead>\n",
       "    <tr style=\"text-align: right;\">\n",
       "      <th></th>\n",
       "      <th>title</th>\n",
       "      <th>text</th>\n",
       "      <th>label</th>\n",
       "    </tr>\n",
       "  </thead>\n",
       "  <tbody>\n",
       "    <tr>\n",
       "      <th>50700</th>\n",
       "      <td>NaN</td>\n",
       "      <td>Shock!!!! Hasn't this been in the news for yea...</td>\n",
       "      <td>fake</td>\n",
       "    </tr>\n",
       "    <tr>\n",
       "      <th>47562</th>\n",
       "      <td>NaN</td>\n",
       "      <td>Except, of course, other US weaponry.\\r\\nWhere...</td>\n",
       "      <td>fake</td>\n",
       "    </tr>\n",
       "    <tr>\n",
       "      <th>3639</th>\n",
       "      <td>NaN</td>\n",
       "      <td>Makes sense… You do the same with any other co...</td>\n",
       "      <td>fake</td>\n",
       "    </tr>\n",
       "    <tr>\n",
       "      <th>18380</th>\n",
       "      <td>NaN</td>\n",
       "      <td>The second video (bottom one ) proves what Tru...</td>\n",
       "      <td>fake</td>\n",
       "    </tr>\n",
       "    <tr>\n",
       "      <th>49674</th>\n",
       "      <td>NaN</td>\n",
       "      <td>Evan Bayh is an excellent example....got into ...</td>\n",
       "      <td>fake</td>\n",
       "    </tr>\n",
       "    <tr>\n",
       "      <th>...</th>\n",
       "      <td>...</td>\n",
       "      <td>...</td>\n",
       "      <td>...</td>\n",
       "    </tr>\n",
       "    <tr>\n",
       "      <th>57930</th>\n",
       "      <td>NaN</td>\n",
       "      <td>Lying, arrogant Muslim, Marxist piece of dogsh*t.</td>\n",
       "      <td>fake</td>\n",
       "    </tr>\n",
       "    <tr>\n",
       "      <th>30910</th>\n",
       "      <td>NaN</td>\n",
       "      <td>Another suggestion would have an independent m...</td>\n",
       "      <td>fake</td>\n",
       "    </tr>\n",
       "    <tr>\n",
       "      <th>23445</th>\n",
       "      <td>NaN</td>\n",
       "      <td>TPP - Remember when after TP you just washed y...</td>\n",
       "      <td>fake</td>\n",
       "    </tr>\n",
       "    <tr>\n",
       "      <th>13435</th>\n",
       "      <td>NaN</td>\n",
       "      <td>Your hyperbole makes you sound more like a Tru...</td>\n",
       "      <td>fake</td>\n",
       "    </tr>\n",
       "    <tr>\n",
       "      <th>40266</th>\n",
       "      <td>NaN</td>\n",
       "      <td>Tesla's on FIRE! \\r\\noh wait</td>\n",
       "      <td>fake</td>\n",
       "    </tr>\n",
       "  </tbody>\n",
       "</table>\n",
       "<p>339 rows × 3 columns</p>\n",
       "</div>"
      ],
      "text/plain": [
       "      title                                               text label\n",
       "50700   NaN  Shock!!!! Hasn't this been in the news for yea...  fake\n",
       "47562   NaN  Except, of course, other US weaponry.\\r\\nWhere...  fake\n",
       "3639    NaN  Makes sense… You do the same with any other co...  fake\n",
       "18380   NaN  The second video (bottom one ) proves what Tru...  fake\n",
       "49674   NaN  Evan Bayh is an excellent example....got into ...  fake\n",
       "...     ...                                                ...   ...\n",
       "57930   NaN  Lying, arrogant Muslim, Marxist piece of dogsh*t.  fake\n",
       "30910   NaN  Another suggestion would have an independent m...  fake\n",
       "23445   NaN  TPP - Remember when after TP you just washed y...  fake\n",
       "13435   NaN  Your hyperbole makes you sound more like a Tru...  fake\n",
       "40266   NaN                       Tesla's on FIRE! \\r\\noh wait  fake\n",
       "\n",
       "[339 rows x 3 columns]"
      ]
     },
     "execution_count": 20,
     "metadata": {},
     "output_type": "execute_result"
    }
   ],
   "source": [
    "df.loc[df['title'].isna()]"
   ]
  },
  {
   "cell_type": "markdown",
   "id": "c38f2940",
   "metadata": {},
   "source": [
    "# 3. Preprocessing"
   ]
  },
  {
   "cell_type": "markdown",
   "id": "460bb3d6",
   "metadata": {},
   "source": [
    "# 3.0 SPLITTING DATA"
   ]
  },
  {
   "cell_type": "code",
   "execution_count": 21,
   "id": "2b880a28",
   "metadata": {},
   "outputs": [],
   "source": [
    "#splitting the data\n",
    "x_train, x_test, y_train, y_test = train_test_split(df[['title','text']], df['label'], test_size=0.3, random_state=10) \n",
    "# a co zeby zrobic warstwowe probkowanie i zachowac stosunek?"
   ]
  },
  {
   "cell_type": "code",
   "execution_count": 22,
   "id": "19a0d797",
   "metadata": {},
   "outputs": [
    {
     "data": {
      "text/html": [
       "<div>\n",
       "<style scoped>\n",
       "    .dataframe tbody tr th:only-of-type {\n",
       "        vertical-align: middle;\n",
       "    }\n",
       "\n",
       "    .dataframe tbody tr th {\n",
       "        vertical-align: top;\n",
       "    }\n",
       "\n",
       "    .dataframe thead th {\n",
       "        text-align: right;\n",
       "    }\n",
       "</style>\n",
       "<table border=\"1\" class=\"dataframe\">\n",
       "  <thead>\n",
       "    <tr style=\"text-align: right;\">\n",
       "      <th></th>\n",
       "      <th>title</th>\n",
       "      <th>text</th>\n",
       "    </tr>\n",
       "  </thead>\n",
       "  <tbody>\n",
       "    <tr>\n",
       "      <th>36949</th>\n",
       "      <td>Light aircraft crash kills 11 in Tanzania</td>\n",
       "      <td>DAR ES SALAAM (Reuters) - At least 11 people w...</td>\n",
       "    </tr>\n",
       "    <tr>\n",
       "      <th>25622</th>\n",
       "      <td>PreseasonBlackhawks at Boston4-2 Loss Recap</td>\n",
       "      <td>PreseasonBlackhawks at Boston4-2 Loss Recap\\r\\...</td>\n",
       "    </tr>\n",
       "    <tr>\n",
       "      <th>19856</th>\n",
       "      <td>Will the anti-Clinton revolt among American el...</td>\n",
       "      <td>Will the anti-Clinton revolt among American el...</td>\n",
       "    </tr>\n",
       "    <tr>\n",
       "      <th>99</th>\n",
       "      <td>Mom Produces Decorative Gift Bag Out Of Thin A...</td>\n",
       "      <td>Report: Friend Has Been Going By Middle Name T...</td>\n",
       "    </tr>\n",
       "    <tr>\n",
       "      <th>29770</th>\n",
       "      <td>U.S. says troubled by reports of another U.S. ...</td>\n",
       "      <td>WASHINGTON (Reuters) - The United States is tr...</td>\n",
       "    </tr>\n",
       "  </tbody>\n",
       "</table>\n",
       "</div>"
      ],
      "text/plain": [
       "                                                   title  \\\n",
       "36949          Light aircraft crash kills 11 in Tanzania   \n",
       "25622        PreseasonBlackhawks at Boston4-2 Loss Recap   \n",
       "19856  Will the anti-Clinton revolt among American el...   \n",
       "99     Mom Produces Decorative Gift Bag Out Of Thin A...   \n",
       "29770  U.S. says troubled by reports of another U.S. ...   \n",
       "\n",
       "                                                    text  \n",
       "36949  DAR ES SALAAM (Reuters) - At least 11 people w...  \n",
       "25622  PreseasonBlackhawks at Boston4-2 Loss Recap\\r\\...  \n",
       "19856  Will the anti-Clinton revolt among American el...  \n",
       "99     Report: Friend Has Been Going By Middle Name T...  \n",
       "29770  WASHINGTON (Reuters) - The United States is tr...  "
      ]
     },
     "execution_count": 22,
     "metadata": {},
     "output_type": "execute_result"
    }
   ],
   "source": [
    "x_train.head()"
   ]
  },
  {
   "cell_type": "code",
   "execution_count": 23,
   "id": "b411207c",
   "metadata": {},
   "outputs": [
    {
     "data": {
      "text/plain": [
       "36949    true\n",
       "25622    fake\n",
       "19856    fake\n",
       "99       fake\n",
       "29770    true\n",
       "Name: label, dtype: object"
      ]
     },
     "execution_count": 23,
     "metadata": {},
     "output_type": "execute_result"
    }
   ],
   "source": [
    "y_train.head()"
   ]
  },
  {
   "cell_type": "markdown",
   "id": "bb885af7",
   "metadata": {},
   "source": [
    "# 3.1 Preprocessing and Text Mining "
   ]
  },
  {
   "cell_type": "code",
   "execution_count": 24,
   "id": "c9065ad6",
   "metadata": {},
   "outputs": [],
   "source": [
    "stopwor = stopwords.words('English')"
   ]
  },
  {
   "cell_type": "code",
   "execution_count": 25,
   "id": "499276e7",
   "metadata": {},
   "outputs": [],
   "source": [
    "def preprocess_text(text):\n",
    "    \n",
    "    #lowercase text\n",
    "    text = str(text) \n",
    "    text = text.lower()\n",
    "    \n",
    "    #Remove punctuation\n",
    "    text = text.translate(str.maketrans('', '', string.punctuation))\n",
    "    \n",
    "    #Remove stop words - English\n",
    "    text = ' '.join(word for word in text.split() if word not in stopwor)\n",
    "    \n",
    "    #Get rid of url\n",
    "    text = re.sub(r'https?://\\S+', '', text)\n",
    "    \n",
    "    return text"
   ]
  },
  {
   "cell_type": "code",
   "execution_count": 26,
   "id": "10e000cc",
   "metadata": {},
   "outputs": [],
   "source": [
    "class MyTransformer(BaseEstimator, TransformerMixin):\n",
    "    def __init__(self):\n",
    "        pass\n",
    "\n",
    "    def fit(self, X, y=None):\n",
    "        return self\n",
    "\n",
    "    def transform(self, X):\n",
    "        X_copy = X.copy() \n",
    "        X_copy['text'] = X_copy['title'] + ' ' + X_copy['text'] \n",
    "        X_copy.drop(X_copy.columns[0], axis=1, inplace=True)  \n",
    "        X_copy['text'] = X_copy['text'].apply(preprocess_text)  \n",
    "        return X_copy['text']"
   ]
  },
  {
   "cell_type": "code",
   "execution_count": 27,
   "id": "ffa81220",
   "metadata": {},
   "outputs": [],
   "source": [
    "pipeline = Pipeline([\n",
    "    ('attr_extraction', MyTransformer()),\n",
    "    ('tfidf', TfidfVectorizer())\n",
    "])"
   ]
  },
  {
   "cell_type": "code",
   "execution_count": 28,
   "id": "d9a388d7",
   "metadata": {},
   "outputs": [
    {
     "data": {
      "text/plain": [
       "Pipeline(steps=[('attr_extraction', MyTransformer()),\n",
       "                ('tfidf', TfidfVectorizer())])"
      ]
     },
     "execution_count": 28,
     "metadata": {},
     "output_type": "execute_result"
    }
   ],
   "source": [
    "pipeline.fit(x_train)"
   ]
  },
  {
   "cell_type": "code",
   "execution_count": 29,
   "id": "337123bd",
   "metadata": {},
   "outputs": [],
   "source": [
    "x_train_tranformed = pipeline.transform(x_train)\n",
    "x_test_transformed = pipeline.transform(x_test)"
   ]
  },
  {
   "cell_type": "code",
   "execution_count": 30,
   "id": "7eb7243c",
   "metadata": {},
   "outputs": [
    {
     "name": "stdout",
     "output_type": "stream",
     "text": [
      "Shape of x_train_transformed: (24165, 211264)\n",
      "Shape of x_test_transformed: (10357, 211264)\n"
     ]
    }
   ],
   "source": [
    "print(f'Shape of x_train_transformed: {x_train_tranformed.shape}')\n",
    "print(f'Shape of x_test_transformed: {x_test_transformed.shape}')"
   ]
  },
  {
   "cell_type": "code",
   "execution_count": 31,
   "id": "e2e24a58",
   "metadata": {},
   "outputs": [],
   "source": [
    "label_encoder = LabelEncoder().fit(y_train)"
   ]
  },
  {
   "cell_type": "code",
   "execution_count": 32,
   "id": "c412b8ec",
   "metadata": {},
   "outputs": [],
   "source": [
    "y_train_transformed = label_encoder.transform(y_train)\n",
    "y_test_transformed = label_encoder.transform(y_test)"
   ]
  },
  {
   "cell_type": "code",
   "execution_count": 33,
   "id": "60086717",
   "metadata": {},
   "outputs": [
    {
     "name": "stdout",
     "output_type": "stream",
     "text": [
      "Shape of y_train_transformed: (24165,)\n",
      "Shape of y_test_transformed: (10357,)\n"
     ]
    }
   ],
   "source": [
    "print(f'Shape of y_train_transformed: {y_train_transformed.shape}')\n",
    "print(f'Shape of y_test_transformed: {y_test_transformed.shape}')"
   ]
  },
  {
   "cell_type": "code",
   "execution_count": 34,
   "id": "4295aeb6",
   "metadata": {},
   "outputs": [],
   "source": [
    "# STEMMING - Sprawia ze slowa sa w bazowej formie -> dlugo trwa\n",
    "\n",
    "#SnowballStemmer(language='english')\n",
    "#stemmer = PorterStemmer()\n",
    "#Stem words\n",
    "#words = text.split()\n",
    "#stemmed_words = [stemmer.stem(word) for word in words]\n",
    "#text = ' '.join(stemmed_words)"
   ]
  },
  {
   "cell_type": "markdown",
   "id": "642b5160",
   "metadata": {},
   "source": [
    "# 3.2 PCA - Redukcja wymiarów"
   ]
  },
  {
   "cell_type": "code",
   "execution_count": 47,
   "id": "ac769a0d",
   "metadata": {},
   "outputs": [],
   "source": [
    "from sklearn.decomposition import TruncatedSVD"
   ]
  },
  {
   "cell_type": "code",
   "execution_count": 48,
   "id": "5c7a2636",
   "metadata": {},
   "outputs": [],
   "source": [
    "pca=TruncatedSVD(n_components=100)"
   ]
  },
  {
   "cell_type": "code",
   "execution_count": 50,
   "id": "c236a2c1",
   "metadata": {},
   "outputs": [],
   "source": [
    "pca_x_train=pca.fit_transform(x_train_tranformed)"
   ]
  },
  {
   "cell_type": "code",
   "execution_count": 53,
   "id": "bb4703be",
   "metadata": {},
   "outputs": [],
   "source": [
    "pca_x_test=pca.transform(x_test_transformed)"
   ]
  },
  {
   "cell_type": "markdown",
   "id": "ff701b55",
   "metadata": {},
   "source": [
    "# 4. Uczenie modelu"
   ]
  },
  {
   "cell_type": "markdown",
   "id": "7f6f727c",
   "metadata": {},
   "source": [
    "# 4.1 DecisionTree"
   ]
  },
  {
   "cell_type": "code",
   "execution_count": 35,
   "id": "ea62af2e",
   "metadata": {},
   "outputs": [
    {
     "data": {
      "text/plain": [
       "(24165, 211264)"
      ]
     },
     "execution_count": 35,
     "metadata": {},
     "output_type": "execute_result"
    }
   ],
   "source": [
    "x_train_tranformed.shape"
   ]
  },
  {
   "cell_type": "code",
   "execution_count": 36,
   "id": "9b6f9a9c",
   "metadata": {},
   "outputs": [
    {
     "data": {
      "text/plain": [
       "(24165,)"
      ]
     },
     "execution_count": 36,
     "metadata": {},
     "output_type": "execute_result"
    }
   ],
   "source": [
    "y_train_transformed.shape"
   ]
  },
  {
   "cell_type": "code",
   "execution_count": 37,
   "id": "f7ecddcb",
   "metadata": {},
   "outputs": [
    {
     "data": {
      "text/plain": [
       "DecisionTreeClassifier()"
      ]
     },
     "execution_count": 37,
     "metadata": {},
     "output_type": "execute_result"
    }
   ],
   "source": [
    "DT = DecisionTreeClassifier()\n",
    "DT.fit(x_train_tranformed, y_train_transformed)"
   ]
  },
  {
   "cell_type": "code",
   "execution_count": 38,
   "id": "bd8870b7",
   "metadata": {
    "scrolled": false
   },
   "outputs": [
    {
     "data": {
      "text/plain": [
       "0.999793089178564"
      ]
     },
     "execution_count": 38,
     "metadata": {},
     "output_type": "execute_result"
    }
   ],
   "source": [
    "DT.score(x_train_tranformed, y_train_transformed)"
   ]
  },
  {
   "cell_type": "code",
   "execution_count": 39,
   "id": "66e15ab8",
   "metadata": {},
   "outputs": [
    {
     "data": {
      "text/plain": [
       "0.9383991503331081"
      ]
     },
     "execution_count": 39,
     "metadata": {},
     "output_type": "execute_result"
    }
   ],
   "source": [
    "DT.score(x_test_transformed, y_test_transformed)"
   ]
  },
  {
   "cell_type": "code",
   "execution_count": 40,
   "id": "2e5514cc",
   "metadata": {},
   "outputs": [],
   "source": [
    "#XD\n",
    "y_pred = DT.predict(x_test_transformed)\n",
    "confusion_mat = confusion_matrix(y_test_transformed, y_pred)"
   ]
  },
  {
   "cell_type": "code",
   "execution_count": 41,
   "id": "c61a69a4",
   "metadata": {},
   "outputs": [
    {
     "name": "stdout",
     "output_type": "stream",
     "text": [
      "[[6068  296]\n",
      " [ 342 3651]]\n"
     ]
    }
   ],
   "source": [
    "print(confusion_mat)"
   ]
  },
  {
   "cell_type": "markdown",
   "id": "2253dd7d",
   "metadata": {},
   "source": [
    "**Testowanie opłacalności algorytmu PCA**"
   ]
  },
  {
   "cell_type": "code",
   "execution_count": 54,
   "id": "431ced6c",
   "metadata": {},
   "outputs": [
    {
     "data": {
      "text/plain": [
       "DecisionTreeClassifier()"
      ]
     },
     "execution_count": 54,
     "metadata": {},
     "output_type": "execute_result"
    }
   ],
   "source": [
    "DT2=DecisionTreeClassifier()\n",
    "DT2.fit(pca_x_train, y_train)"
   ]
  },
  {
   "cell_type": "code",
   "execution_count": 55,
   "id": "aeb0d750",
   "metadata": {},
   "outputs": [
    {
     "data": {
      "text/plain": [
       "0.8575842425412764"
      ]
     },
     "execution_count": 55,
     "metadata": {},
     "output_type": "execute_result"
    }
   ],
   "source": [
    "DT2.score(pca_x_test,y_test)"
   ]
  },
  {
   "cell_type": "code",
   "execution_count": 56,
   "id": "686d14ef",
   "metadata": {},
   "outputs": [
    {
     "data": {
      "text/plain": [
       "0.999793089178564"
      ]
     },
     "execution_count": 56,
     "metadata": {},
     "output_type": "execute_result"
    }
   ],
   "source": [
    "DT2.score(pca_x_train,y_train)"
   ]
  },
  {
   "cell_type": "markdown",
   "id": "3f0f74a8",
   "metadata": {},
   "source": [
    "# 4.2 RandomForest"
   ]
  },
  {
   "cell_type": "code",
   "execution_count": 42,
   "id": "1ea01482",
   "metadata": {},
   "outputs": [
    {
     "data": {
      "text/plain": [
       "RandomForestClassifier()"
      ]
     },
     "execution_count": 42,
     "metadata": {},
     "output_type": "execute_result"
    }
   ],
   "source": [
    "rf = RandomForestClassifier()\n",
    "rf.fit(x_train_tranformed, y_train_transformed)"
   ]
  },
  {
   "cell_type": "code",
   "execution_count": 43,
   "id": "e10f47c9",
   "metadata": {
    "scrolled": true
   },
   "outputs": [
    {
     "data": {
      "text/plain": [
       "0.999793089178564"
      ]
     },
     "execution_count": 43,
     "metadata": {},
     "output_type": "execute_result"
    }
   ],
   "source": [
    "rf.score(x_train_tranformed, y_train_transformed)"
   ]
  },
  {
   "cell_type": "code",
   "execution_count": 44,
   "id": "5846d4ba",
   "metadata": {},
   "outputs": [
    {
     "data": {
      "text/plain": [
       "0.9351163464323646"
      ]
     },
     "execution_count": 44,
     "metadata": {},
     "output_type": "execute_result"
    }
   ],
   "source": [
    "rf.score(x_test_transformed, y_test_transformed)"
   ]
  },
  {
   "cell_type": "code",
   "execution_count": 45,
   "id": "0b0471e0",
   "metadata": {},
   "outputs": [
    {
     "name": "stdout",
     "output_type": "stream",
     "text": [
      "[[6201  163]\n",
      " [ 509 3484]]\n"
     ]
    }
   ],
   "source": [
    "y_pred = rf.predict(x_test_transformed)\n",
    "confusion_mat = confusion_matrix(y_test_transformed, y_pred)\n",
    "print(confusion_mat)"
   ]
  },
  {
   "cell_type": "code",
   "execution_count": 46,
   "id": "cf9a95d9",
   "metadata": {},
   "outputs": [],
   "source": [
    "?RandomForestClassifier"
   ]
  },
  {
   "cell_type": "code",
   "execution_count": null,
   "id": "29771971",
   "metadata": {},
   "outputs": [],
   "source": []
  }
 ],
 "metadata": {
  "kernelspec": {
   "display_name": "Python 3 (ipykernel)",
   "language": "python",
   "name": "python3"
  },
  "language_info": {
   "codemirror_mode": {
    "name": "ipython",
    "version": 3
   },
   "file_extension": ".py",
   "mimetype": "text/x-python",
   "name": "python",
   "nbconvert_exporter": "python",
   "pygments_lexer": "ipython3",
   "version": "3.9.13"
  }
 },
 "nbformat": 4,
 "nbformat_minor": 5
}
