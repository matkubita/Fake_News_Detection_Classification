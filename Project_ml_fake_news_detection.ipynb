{
 "cells": [
  {
   "cell_type": "code",
   "execution_count": 2,
   "id": "cc4fc234",
   "metadata": {},
   "outputs": [
    {
     "ename": "ModuleNotFoundError",
     "evalue": "No module named 'langdetect'",
     "output_type": "error",
     "traceback": [
      "\u001b[1;31m---------------------------------------------------------------------------\u001b[0m",
      "\u001b[1;31mModuleNotFoundError\u001b[0m                       Traceback (most recent call last)",
      "Input \u001b[1;32mIn [2]\u001b[0m, in \u001b[0;36m<cell line: 24>\u001b[1;34m()\u001b[0m\n\u001b[0;32m     22\u001b[0m \u001b[38;5;28;01mfrom\u001b[39;00m \u001b[38;5;21;01msklearn\u001b[39;00m\u001b[38;5;21;01m.\u001b[39;00m\u001b[38;5;21;01mmetrics\u001b[39;00m \u001b[38;5;28;01mimport\u001b[39;00m classification_report\n\u001b[0;32m     23\u001b[0m \u001b[38;5;28;01mimport\u001b[39;00m \u001b[38;5;21;01mxgboost\u001b[39;00m \u001b[38;5;28;01mas\u001b[39;00m \u001b[38;5;21;01mxgb\u001b[39;00m\n\u001b[1;32m---> 24\u001b[0m \u001b[38;5;28;01mfrom\u001b[39;00m \u001b[38;5;21;01mlangdetect\u001b[39;00m \u001b[38;5;28;01mimport\u001b[39;00m detect\n\u001b[0;32m     26\u001b[0m \u001b[38;5;28;01mimport\u001b[39;00m \u001b[38;5;21;01mwarnings\u001b[39;00m\n",
      "\u001b[1;31mModuleNotFoundError\u001b[0m: No module named 'langdetect'"
     ]
    }
   ],
   "source": [
    "#importowanie bibliotek\n",
    "import numpy as np\n",
    "import pandas as pd\n",
    "import matplotlib.pyplot as plt\n",
    "import seaborn as sns\n",
    "from sklearn.model_selection import train_test_split\n",
    "from sklearn import preprocessing\n",
    "from sklearn.metrics import confusion_matrix\n",
    "from sklearn.feature_extraction.text import TfidfVectorizer\n",
    "from sklearn.preprocessing import StandardScaler, FunctionTransformer, LabelEncoder\n",
    "from nltk.stem.porter import PorterStemmer\n",
    "import nltk\n",
    "from nltk.corpus import stopwords\n",
    "import re\n",
    "import string\n",
    "from sklearn.tree import DecisionTreeClassifier\n",
    "from sklearn.base import BaseEstimator, TransformerMixin\n",
    "from sklearn.pipeline import Pipeline\n",
    "from sklearn.compose import ColumnTransformer\n",
    "from sklearn.preprocessing import LabelEncoder\n",
    "from sklearn.ensemble import RandomForestClassifier\n",
    "from sklearn.metrics import classification_report\n",
    "import xgboost as xgb\n",
    "from langdetect import detect\n",
    "\n",
    "import warnings\n",
    "#warnings.filterwarnings('ignore')\n"
   ]
  },
  {
   "cell_type": "code",
   "execution_count": null,
   "id": "e3790084",
   "metadata": {},
   "outputs": [],
   "source": [
    "df = pd.read_csv(\"PreProcessedData.csv\")"
   ]
  },
  {
   "cell_type": "code",
   "execution_count": null,
   "id": "12cb20d1",
   "metadata": {},
   "outputs": [],
   "source": [
    "#df = df.sample(frac=0.5) #zeby szybciej sie uczylo, potem wezmiemy calosc"
   ]
  },
  {
   "cell_type": "code",
   "execution_count": null,
   "id": "b117d0e7",
   "metadata": {
    "scrolled": true
   },
   "outputs": [],
   "source": [
    "df.head()"
   ]
  },
  {
   "cell_type": "code",
   "execution_count": null,
   "id": "93ccbd1e",
   "metadata": {},
   "outputs": [],
   "source": [
    "df.info()"
   ]
  },
  {
   "cell_type": "markdown",
   "id": "5be2643d",
   "metadata": {},
   "source": [
    "# Usuwanie tekstów w innych językach z całej ramki"
   ]
  },
  {
   "cell_type": "code",
   "execution_count": null,
   "id": "1cdabee5",
   "metadata": {},
   "outputs": [],
   "source": [
    "lang=[]\n",
    "for index, row in df.iterrows():\n",
    "    try:\n",
    "        lang.append(detect(row['title']))\n",
    "    except:\n",
    "        try:\n",
    "            lang.append(detect(row['text']))\n",
    "        except:\n",
    "            lang.append(111)"
   ]
  },
  {
   "cell_type": "code",
   "execution_count": null,
   "id": "079ecfa0",
   "metadata": {},
   "outputs": [],
   "source": [
    "language=pd.Series(lang)"
   ]
  },
  {
   "cell_type": "code",
   "execution_count": null,
   "id": "696dcbb2",
   "metadata": {},
   "outputs": [],
   "source": [
    "new_df=pd.concat([df, language], axis=1, join='inner')"
   ]
  },
  {
   "cell_type": "code",
   "execution_count": null,
   "id": "3c61affe",
   "metadata": {},
   "outputs": [],
   "source": [
    "new_df.info()"
   ]
  },
  {
   "cell_type": "code",
   "execution_count": null,
   "id": "ff203c76",
   "metadata": {},
   "outputs": [],
   "source": [
    "new_df.rename(columns = {0:'lang'}, inplace = True)"
   ]
  },
  {
   "cell_type": "code",
   "execution_count": null,
   "id": "03cc8c13",
   "metadata": {},
   "outputs": [],
   "source": [
    "list(new_df)"
   ]
  },
  {
   "cell_type": "code",
   "execution_count": null,
   "id": "44267da2",
   "metadata": {},
   "outputs": [],
   "source": [
    "new_df=new_df[new_df['lang']=='en']"
   ]
  },
  {
   "cell_type": "code",
   "execution_count": null,
   "id": "38119e09",
   "metadata": {},
   "outputs": [],
   "source": [
    "new_df=new_df[['Unnamed: 0', 'title', 'text', 'Ground Label']]"
   ]
  },
  {
   "cell_type": "code",
   "execution_count": null,
   "id": "6cd3edd1",
   "metadata": {},
   "outputs": [],
   "source": [
    "new_df.head()"
   ]
  },
  {
   "cell_type": "code",
   "execution_count": null,
   "id": "68287c85",
   "metadata": {},
   "outputs": [],
   "source": [
    "#ramka z usunietymi tekstami w innym jezyku\n",
    "df=new_df"
   ]
  },
  {
   "cell_type": "code",
   "execution_count": null,
   "id": "cfb5cc3d",
   "metadata": {},
   "outputs": [],
   "source": [
    "df.rename(columns = {'Ground Label': 'label'},inplace=True)"
   ]
  },
  {
   "cell_type": "code",
   "execution_count": null,
   "id": "d0c5b07a",
   "metadata": {},
   "outputs": [],
   "source": [
    "#usunm ta jedna kolumne bo jest useless\n",
    "df.drop(df.columns[0], inplace=True, axis=1)"
   ]
  },
  {
   "cell_type": "code",
   "execution_count": null,
   "id": "ffd8c76d",
   "metadata": {},
   "outputs": [],
   "source": [
    "df.head()"
   ]
  },
  {
   "cell_type": "code",
   "execution_count": null,
   "id": "5e104cb1",
   "metadata": {},
   "outputs": [],
   "source": [
    "#splitting the data\n",
    "x_train, x_val, y_train, y_val = train_test_split(df[['title','text']], df['label'], test_size=0.3, random_state=10)"
   ]
  },
  {
   "cell_type": "code",
   "execution_count": null,
   "id": "85674c80",
   "metadata": {},
   "outputs": [],
   "source": [
    "df=pd.concat([x_train, y_train], axis=1, join='inner')"
   ]
  },
  {
   "cell_type": "code",
   "execution_count": null,
   "id": "2170a15e",
   "metadata": {},
   "outputs": [],
   "source": [
    "df.head()"
   ]
  },
  {
   "cell_type": "code",
   "execution_count": null,
   "id": "085a22f4",
   "metadata": {},
   "outputs": [],
   "source": [
    "df.loc[df.duplicated()]"
   ]
  },
  {
   "cell_type": "code",
   "execution_count": null,
   "id": "6ff1d1ba",
   "metadata": {},
   "outputs": [],
   "source": [
    "df.loc[ df['title'].str.contains('Goes Down, Loretta', na=False)  ]"
   ]
  },
  {
   "cell_type": "markdown",
   "id": "779ecaf7",
   "metadata": {},
   "source": [
    "Mamy 4600 duplikatów spośród 48 000 wierszy. Warto by było usunąć te duplikaty w zbiorze treningowym, bo nic nie wnoszą sensownego"
   ]
  },
  {
   "cell_type": "code",
   "execution_count": null,
   "id": "e00feec2",
   "metadata": {},
   "outputs": [],
   "source": [
    "df.drop_duplicates(inplace = True)"
   ]
  },
  {
   "cell_type": "code",
   "execution_count": null,
   "id": "9ccc2940",
   "metadata": {},
   "outputs": [],
   "source": [
    "df.loc[df.duplicated()]"
   ]
  },
  {
   "cell_type": "markdown",
   "id": "e1458008",
   "metadata": {},
   "source": [
    "# 1. Analiza całokształtu zadania - CEL"
   ]
  },
  {
   "cell_type": "markdown",
   "id": "6632bc01",
   "metadata": {},
   "source": [
    "Cel projektu : mamy title newsa, text i ground label czyli informacje czy to jest fake czy nie -> \n",
    "Musimy stworzyc model klasyfikacji ktory bedzie stwierdzać, czy dany artykuł jest prawdziwy czy nie."
   ]
  },
  {
   "cell_type": "markdown",
   "id": "77995143",
   "metadata": {},
   "source": [
    "# 2. Wizualizacja danych"
   ]
  },
  {
   "cell_type": "code",
   "execution_count": null,
   "id": "87cef752",
   "metadata": {},
   "outputs": [],
   "source": [
    "df.info()"
   ]
  },
  {
   "cell_type": "code",
   "execution_count": null,
   "id": "a922e684",
   "metadata": {
    "scrolled": false
   },
   "outputs": [],
   "source": [
    "df.shape"
   ]
  },
  {
   "cell_type": "code",
   "execution_count": null,
   "id": "a883414a",
   "metadata": {
    "scrolled": true
   },
   "outputs": [],
   "source": [
    "df['label'].value_counts()"
   ]
  },
  {
   "cell_type": "code",
   "execution_count": null,
   "id": "61f98bbf",
   "metadata": {},
   "outputs": [],
   "source": [
    "sns.countplot(df['label'])\n",
    "plt.title('Number of fake news and true news')\n",
    "plt.show()"
   ]
  },
  {
   "cell_type": "code",
   "execution_count": null,
   "id": "c1967011",
   "metadata": {},
   "outputs": [],
   "source": [
    "df['title'].str.len().hist(bins=[0,3,20,50,75,100,150,200,300,400])\n",
    "plt.title('Histogram - TITLE length')\n",
    "plt.show()"
   ]
  },
  {
   "cell_type": "code",
   "execution_count": null,
   "id": "b80f34d5",
   "metadata": {},
   "outputs": [],
   "source": [
    "df['text'].str.len().hist(bins=[0,50,200,300,1000,2000,3000,5000,20000,90000])\n",
    "plt.title('Histogram - TEXT length')\n",
    "plt.show()"
   ]
  },
  {
   "cell_type": "code",
   "execution_count": null,
   "id": "88ee481f",
   "metadata": {},
   "outputs": [],
   "source": [
    "df.isna().sum() #tytuł będziemy doklejać do tekstu"
   ]
  },
  {
   "cell_type": "code",
   "execution_count": null,
   "id": "4a8c5544",
   "metadata": {},
   "outputs": [],
   "source": [
    "#average title length in each text\n",
    "fig,(ax1,ax2)=plt.subplots(1,2,figsize=(20,10))\n",
    "\n",
    "len_word_true=df[df['label']=='true']['title'].str.len()\n",
    "sns.distplot(len_word_true.map(lambda x: np.mean(x)),ax=ax1,color='green')\n",
    "ax1.set_xlim([0,250])\n",
    "ax1.set_title('Original title')\n",
    "\n",
    "len_word_false=df[df['label']=='fake']['title'].str.len()\n",
    "sns.distplot(len_word_false.map(lambda x: np.mean(x)),ax=ax2,color='red')\n",
    "ax2.set_xlim([0,250])\n",
    "ax2.set_title('Fake text')\n",
    "\n",
    "fig.suptitle('Average title length in each text')\n",
    "\n",
    "plt.show()"
   ]
  },
  {
   "cell_type": "code",
   "execution_count": null,
   "id": "5967fcba",
   "metadata": {},
   "outputs": [],
   "source": [
    "#average word length in each text\n",
    "fig,(ax1,ax2)=plt.subplots(1,2,figsize=(20,10))\n",
    "len_word_true=df[df['label']=='true']['text'].str.len()\n",
    "sns.distplot(len_word_true.map(lambda x: np.mean(x)),ax=ax1,color='green')\n",
    "ax1.set_title('Original text')\n",
    "ax1.set_xlim([-100,20000])\n",
    "\n",
    "len_word_false=df[df['label']=='fake']['text'].str.len()\n",
    "sns.distplot(len_word_false.map(lambda x: np.mean(x)),ax=ax2,color='red')\n",
    "ax2.set_title('Fake text')\n",
    "\n",
    "fig.suptitle('Average text length in each text')\n",
    "ax2.set_xlim([-100,20000])\n",
    "plt.show()"
   ]
  },
  {
   "cell_type": "code",
   "execution_count": null,
   "id": "842dec04",
   "metadata": {},
   "outputs": [],
   "source": [
    "df.loc[df['text'].isna()]"
   ]
  },
  {
   "cell_type": "code",
   "execution_count": 71,
   "id": "4b0a25e1",
   "metadata": {},
   "outputs": [
    {
     "data": {
      "text/html": [
       "<div>\n",
       "<style scoped>\n",
       "    .dataframe tbody tr th:only-of-type {\n",
       "        vertical-align: middle;\n",
       "    }\n",
       "\n",
       "    .dataframe tbody tr th {\n",
       "        vertical-align: top;\n",
       "    }\n",
       "\n",
       "    .dataframe thead th {\n",
       "        text-align: right;\n",
       "    }\n",
       "</style>\n",
       "<table border=\"1\" class=\"dataframe\">\n",
       "  <thead>\n",
       "    <tr style=\"text-align: right;\">\n",
       "      <th></th>\n",
       "      <th>title</th>\n",
       "      <th>text</th>\n",
       "      <th>label</th>\n",
       "    </tr>\n",
       "  </thead>\n",
       "  <tbody>\n",
       "    <tr>\n",
       "      <th>65456</th>\n",
       "      <td>NaN</td>\n",
       "      <td>I thought Trump didn't like people who were ca...</td>\n",
       "      <td>fake</td>\n",
       "    </tr>\n",
       "    <tr>\n",
       "      <th>47562</th>\n",
       "      <td>NaN</td>\n",
       "      <td>Except, of course, other US weaponry.\\r\\nWhere...</td>\n",
       "      <td>fake</td>\n",
       "    </tr>\n",
       "    <tr>\n",
       "      <th>19007</th>\n",
       "      <td>NaN</td>\n",
       "      <td>You know, if the guy really is about restoring...</td>\n",
       "      <td>fake</td>\n",
       "    </tr>\n",
       "    <tr>\n",
       "      <th>52131</th>\n",
       "      <td>NaN</td>\n",
       "      <td>$4 Billion even after they are known to be kee...</td>\n",
       "      <td>fake</td>\n",
       "    </tr>\n",
       "    <tr>\n",
       "      <th>43532</th>\n",
       "      <td>NaN</td>\n",
       "      <td>Googles Alphabet Experiment Misses Goal: Keep...</td>\n",
       "      <td>fake</td>\n",
       "    </tr>\n",
       "    <tr>\n",
       "      <th>...</th>\n",
       "      <td>...</td>\n",
       "      <td>...</td>\n",
       "      <td>...</td>\n",
       "    </tr>\n",
       "    <tr>\n",
       "      <th>10401</th>\n",
       "      <td>NaN</td>\n",
       "      <td>Part 3 Mary Worship https://www.youtube.com/wa...</td>\n",
       "      <td>fake</td>\n",
       "    </tr>\n",
       "    <tr>\n",
       "      <th>3707</th>\n",
       "      <td>NaN</td>\n",
       "      <td>what about in the winter?? anyone got an answe...</td>\n",
       "      <td>fake</td>\n",
       "    </tr>\n",
       "    <tr>\n",
       "      <th>54340</th>\n",
       "      <td>NaN</td>\n",
       "      <td>We Are Change \\r\\nProject Veritas continues wi...</td>\n",
       "      <td>fake</td>\n",
       "    </tr>\n",
       "    <tr>\n",
       "      <th>46514</th>\n",
       "      <td>NaN</td>\n",
       "      <td>Ah the old pump and dump.  The market should b...</td>\n",
       "      <td>fake</td>\n",
       "    </tr>\n",
       "    <tr>\n",
       "      <th>12868</th>\n",
       "      <td>NaN</td>\n",
       "      <td>A dollar to be made and all I got was a quarte...</td>\n",
       "      <td>fake</td>\n",
       "    </tr>\n",
       "  </tbody>\n",
       "</table>\n",
       "<p>400 rows × 3 columns</p>\n",
       "</div>"
      ],
      "text/plain": [
       "      title                                               text label\n",
       "65456   NaN  I thought Trump didn't like people who were ca...  fake\n",
       "47562   NaN  Except, of course, other US weaponry.\\r\\nWhere...  fake\n",
       "19007   NaN  You know, if the guy really is about restoring...  fake\n",
       "52131   NaN  $4 Billion even after they are known to be kee...  fake\n",
       "43532   NaN  Googles Alphabet Experiment Misses Goal: Keep...  fake\n",
       "...     ...                                                ...   ...\n",
       "10401   NaN  Part 3 Mary Worship https://www.youtube.com/wa...  fake\n",
       "3707    NaN  what about in the winter?? anyone got an answe...  fake\n",
       "54340   NaN  We Are Change \\r\\nProject Veritas continues wi...  fake\n",
       "46514   NaN  Ah the old pump and dump.  The market should b...  fake\n",
       "12868   NaN  A dollar to be made and all I got was a quarte...  fake\n",
       "\n",
       "[400 rows x 3 columns]"
      ]
     },
     "execution_count": 71,
     "metadata": {},
     "output_type": "execute_result"
    }
   ],
   "source": [
    "df.loc[df['title'].isna()]"
   ]
  },
  {
   "cell_type": "code",
   "execution_count": 72,
   "id": "e8fdb405",
   "metadata": {},
   "outputs": [
    {
     "data": {
      "text/html": [
       "<div>\n",
       "<style scoped>\n",
       "    .dataframe tbody tr th:only-of-type {\n",
       "        vertical-align: middle;\n",
       "    }\n",
       "\n",
       "    .dataframe tbody tr th {\n",
       "        vertical-align: top;\n",
       "    }\n",
       "\n",
       "    .dataframe thead th {\n",
       "        text-align: right;\n",
       "    }\n",
       "</style>\n",
       "<table border=\"1\" class=\"dataframe\">\n",
       "  <thead>\n",
       "    <tr style=\"text-align: right;\">\n",
       "      <th></th>\n",
       "      <th>title</th>\n",
       "      <th>text</th>\n",
       "      <th>label</th>\n",
       "    </tr>\n",
       "  </thead>\n",
       "  <tbody>\n",
       "  </tbody>\n",
       "</table>\n",
       "</div>"
      ],
      "text/plain": [
       "Empty DataFrame\n",
       "Columns: [title, text, label]\n",
       "Index: []"
      ]
     },
     "execution_count": 72,
     "metadata": {},
     "output_type": "execute_result"
    }
   ],
   "source": [
    "df.loc[ ( df['title'].isna() ) &  ( df['text'].isna() )]"
   ]
  },
  {
   "cell_type": "code",
   "execution_count": 73,
   "id": "1095b6b2",
   "metadata": {},
   "outputs": [
    {
     "data": {
      "text/html": [
       "<div>\n",
       "<style scoped>\n",
       "    .dataframe tbody tr th:only-of-type {\n",
       "        vertical-align: middle;\n",
       "    }\n",
       "\n",
       "    .dataframe tbody tr th {\n",
       "        vertical-align: top;\n",
       "    }\n",
       "\n",
       "    .dataframe thead th {\n",
       "        text-align: right;\n",
       "    }\n",
       "</style>\n",
       "<table border=\"1\" class=\"dataframe\">\n",
       "  <thead>\n",
       "    <tr style=\"text-align: right;\">\n",
       "      <th></th>\n",
       "      <th>title</th>\n",
       "      <th>text</th>\n",
       "      <th>label</th>\n",
       "    </tr>\n",
       "  </thead>\n",
       "  <tbody>\n",
       "    <tr>\n",
       "      <th>13184</th>\n",
       "      <td>Hillary’s Watergate?</td>\n",
       "      <td></td>\n",
       "      <td>fake</td>\n",
       "    </tr>\n",
       "    <tr>\n",
       "      <th>29457</th>\n",
       "      <td>World War 3?</td>\n",
       "      <td></td>\n",
       "      <td>fake</td>\n",
       "    </tr>\n",
       "  </tbody>\n",
       "</table>\n",
       "</div>"
      ],
      "text/plain": [
       "                      title text label\n",
       "13184  Hillary’s Watergate?       fake\n",
       "29457          World War 3?       fake"
      ]
     },
     "execution_count": 73,
     "metadata": {},
     "output_type": "execute_result"
    }
   ],
   "source": [
    "df.loc[( df['text'].str.len() < 30 )  & (df['title'].str.len()<30)]"
   ]
  },
  {
   "cell_type": "markdown",
   "id": "c38f2940",
   "metadata": {},
   "source": [
    "# 3. Preprocessing"
   ]
  },
  {
   "cell_type": "markdown",
   "id": "460bb3d6",
   "metadata": {},
   "source": [
    "# 3.0 SPLITTING DATA"
   ]
  },
  {
   "cell_type": "code",
   "execution_count": 74,
   "id": "2b880a28",
   "metadata": {},
   "outputs": [],
   "source": [
    "#splitting the data\n",
    "x_train, x_test, y_train, y_test = train_test_split(df[['title','text']], df['label'], test_size=0.3, random_state=10) \n",
    "# a co zeby zrobic warstwowe probkowanie i zachowac stosunek?"
   ]
  },
  {
   "cell_type": "code",
   "execution_count": 75,
   "id": "19a0d797",
   "metadata": {},
   "outputs": [
    {
     "data": {
      "text/html": [
       "<div>\n",
       "<style scoped>\n",
       "    .dataframe tbody tr th:only-of-type {\n",
       "        vertical-align: middle;\n",
       "    }\n",
       "\n",
       "    .dataframe tbody tr th {\n",
       "        vertical-align: top;\n",
       "    }\n",
       "\n",
       "    .dataframe thead th {\n",
       "        text-align: right;\n",
       "    }\n",
       "</style>\n",
       "<table border=\"1\" class=\"dataframe\">\n",
       "  <thead>\n",
       "    <tr style=\"text-align: right;\">\n",
       "      <th></th>\n",
       "      <th>title</th>\n",
       "      <th>text</th>\n",
       "    </tr>\n",
       "  </thead>\n",
       "  <tbody>\n",
       "    <tr>\n",
       "      <th>18710</th>\n",
       "      <td>Catalan independence campaign kicks off as Bar...</td>\n",
       "      <td>TARRAGONA, Spain (Reuters) - The Catalonian go...</td>\n",
       "    </tr>\n",
       "    <tr>\n",
       "      <th>34036</th>\n",
       "      <td>AWESOME! HISPANIC TRUMP SUPPORTER Rips Into Pr...</td>\n",
       "      <td></td>\n",
       "    </tr>\n",
       "    <tr>\n",
       "      <th>37386</th>\n",
       "      <td>Man To Howard University Students: ‘It’s Not M...</td>\n",
       "      <td>Red Flag Warning: These California Wildfires A...</td>\n",
       "    </tr>\n",
       "    <tr>\n",
       "      <th>42829</th>\n",
       "      <td>NY Sanitation Workers Block Driver, Hurl Raci...</td>\n",
       "      <td>If you don t think that Donald Trump s horribl...</td>\n",
       "    </tr>\n",
       "    <tr>\n",
       "      <th>10060</th>\n",
       "      <td>Trump to order reversal of Obama water regulat...</td>\n",
       "      <td>WASHINGTON (Reuters) - U.S. President Donald T...</td>\n",
       "    </tr>\n",
       "  </tbody>\n",
       "</table>\n",
       "</div>"
      ],
      "text/plain": [
       "                                                   title  \\\n",
       "18710  Catalan independence campaign kicks off as Bar...   \n",
       "34036  AWESOME! HISPANIC TRUMP SUPPORTER Rips Into Pr...   \n",
       "37386  Man To Howard University Students: ‘It’s Not M...   \n",
       "42829   NY Sanitation Workers Block Driver, Hurl Raci...   \n",
       "10060  Trump to order reversal of Obama water regulat...   \n",
       "\n",
       "                                                    text  \n",
       "18710  TARRAGONA, Spain (Reuters) - The Catalonian go...  \n",
       "34036                                                     \n",
       "37386  Red Flag Warning: These California Wildfires A...  \n",
       "42829  If you don t think that Donald Trump s horribl...  \n",
       "10060  WASHINGTON (Reuters) - U.S. President Donald T...  "
      ]
     },
     "execution_count": 75,
     "metadata": {},
     "output_type": "execute_result"
    }
   ],
   "source": [
    "x_train.head()"
   ]
  },
  {
   "cell_type": "code",
   "execution_count": 76,
   "id": "b411207c",
   "metadata": {},
   "outputs": [
    {
     "data": {
      "text/plain": [
       "18710    true\n",
       "34036    fake\n",
       "37386    fake\n",
       "42829    fake\n",
       "10060    true\n",
       "Name: label, dtype: object"
      ]
     },
     "execution_count": 76,
     "metadata": {},
     "output_type": "execute_result"
    }
   ],
   "source": [
    "y_train.head()"
   ]
  },
  {
   "cell_type": "markdown",
   "id": "bb885af7",
   "metadata": {},
   "source": [
    "# 3.1 Preprocessing and Text Mining "
   ]
  },
  {
   "cell_type": "markdown",
   "id": "d5691d0a",
   "metadata": {},
   "source": [
    "# TODO: Usuńmy wiersze z innymi językam"
   ]
  },
  {
   "cell_type": "code",
   "execution_count": 78,
   "id": "c9065ad6",
   "metadata": {},
   "outputs": [],
   "source": [
    "stopwor = stopwords.words('English')"
   ]
  },
  {
   "cell_type": "code",
   "execution_count": 79,
   "id": "499276e7",
   "metadata": {},
   "outputs": [],
   "source": [
    "def preprocess_text(text):\n",
    "    \n",
    "    #lowercase text\n",
    "    text = str(text) \n",
    "    text = text.lower()\n",
    "    \n",
    "    #Remove punctuation\n",
    "    text = text.translate(str.maketrans('', '', string.punctuation))\n",
    "    \n",
    "    #Remove stop words - English\n",
    "    text = ' '.join(word for word in text.split() if word not in stopwor)\n",
    "    \n",
    "    #Get rid of url\n",
    "    text = re.sub(r'https?://\\S+', '', text)\n",
    "    \n",
    "    return text"
   ]
  },
  {
   "cell_type": "code",
   "execution_count": 82,
   "id": "10e000cc",
   "metadata": {},
   "outputs": [],
   "source": [
    "\n",
    "class MyTransformer(BaseEstimator, TransformerMixin):\n",
    "    def __init__(self):\n",
    "        pass\n",
    "\n",
    "    def fit(self, X, y=None):\n",
    "        return self\n",
    "\n",
    "    def transform(self, X):\n",
    "        X_copy = X.copy() \n",
    "        X_copy['text'] = X_copy['title'] + ' ' + X_copy['text'] \n",
    "        X_copy.drop(X_copy.columns[0], axis=1, inplace=True)  \n",
    "        X_copy['text'] = X_copy['text'].apply(preprocess_text)\n",
    "        return X_copy['text']\n"
   ]
  },
  {
   "cell_type": "code",
   "execution_count": 83,
   "id": "ffa81220",
   "metadata": {},
   "outputs": [],
   "source": [
    "pipeline = Pipeline([\n",
    "    ('attr_extraction', MyTransformer()),\n",
    "    ('tfidf', TfidfVectorizer())\n",
    "])"
   ]
  },
  {
   "cell_type": "code",
   "execution_count": 84,
   "id": "d9a388d7",
   "metadata": {},
   "outputs": [
    {
     "data": {
      "text/plain": [
       "Pipeline(steps=[('attr_extraction', MyTransformer()),\n",
       "                ('tfidf', TfidfVectorizer())])"
      ]
     },
     "execution_count": 84,
     "metadata": {},
     "output_type": "execute_result"
    }
   ],
   "source": [
    "pipeline.fit(x_train)"
   ]
  },
  {
   "cell_type": "code",
   "execution_count": 85,
   "id": "337123bd",
   "metadata": {},
   "outputs": [],
   "source": [
    "x_train_transformed = pipeline.transform(x_train)\n",
    "x_test_transformed = pipeline.transform(x_test)"
   ]
  },
  {
   "cell_type": "code",
   "execution_count": 86,
   "id": "679f9543",
   "metadata": {},
   "outputs": [
    {
     "data": {
      "text/plain": [
       "<12501x204499 sparse matrix of type '<class 'numpy.float64'>'\n",
       "\twith 2370751 stored elements in Compressed Sparse Row format>"
      ]
     },
     "execution_count": 86,
     "metadata": {},
     "output_type": "execute_result"
    }
   ],
   "source": [
    "x_test_transformed"
   ]
  },
  {
   "cell_type": "code",
   "execution_count": 87,
   "id": "7eb7243c",
   "metadata": {},
   "outputs": [
    {
     "name": "stdout",
     "output_type": "stream",
     "text": [
      "Shape of x_train_transformed: (29167, 204499)\n",
      "Shape of x_test_transformed: (12501, 204499)\n"
     ]
    }
   ],
   "source": [
    "print(f'Shape of x_train_transformed: {x_train_transformed.shape}')\n",
    "print(f'Shape of x_test_transformed: {x_test_transformed.shape}')"
   ]
  },
  {
   "cell_type": "code",
   "execution_count": 88,
   "id": "e2e24a58",
   "metadata": {},
   "outputs": [],
   "source": [
    "label_encoder = LabelEncoder().fit(y_train)"
   ]
  },
  {
   "cell_type": "code",
   "execution_count": 89,
   "id": "c412b8ec",
   "metadata": {},
   "outputs": [],
   "source": [
    "y_train_transformed = label_encoder.transform(y_train)\n",
    "y_test_transformed = label_encoder.transform(y_test)"
   ]
  },
  {
   "cell_type": "code",
   "execution_count": 90,
   "id": "60086717",
   "metadata": {},
   "outputs": [
    {
     "name": "stdout",
     "output_type": "stream",
     "text": [
      "Shape of y_train_transformed: (29167,)\n",
      "Shape of y_test_transformed: (12501,)\n"
     ]
    }
   ],
   "source": [
    "print(f'Shape of y_train_transformed: {y_train_transformed.shape}')\n",
    "print(f'Shape of y_test_transformed: {y_test_transformed.shape}')"
   ]
  },
  {
   "cell_type": "code",
   "execution_count": 91,
   "id": "4295aeb6",
   "metadata": {},
   "outputs": [],
   "source": [
    "# STEMMING - Sprawia ze slowa sa w bazowej formie -> dlugo trwa\n",
    "\n",
    "#SnowballStemmer(language='english')\n",
    "#stemmer = PorterStemmer()\n",
    "#Stem words\n",
    "#words = text.split()\n",
    "#stemmed_words = [stemmer.stem(word) for word in words]\n",
    "#text = ' '.join(stemmed_words)"
   ]
  },
  {
   "cell_type": "markdown",
   "id": "642b5160",
   "metadata": {},
   "source": [
    "# 3.2 PCA - Redukcja wymiarów"
   ]
  },
  {
   "cell_type": "code",
   "execution_count": 44,
   "id": "ac769a0d",
   "metadata": {},
   "outputs": [],
   "source": [
    "from sklearn.decomposition import TruncatedSVD"
   ]
  },
  {
   "cell_type": "code",
   "execution_count": 45,
   "id": "5c7a2636",
   "metadata": {},
   "outputs": [],
   "source": [
    "pca=TruncatedSVD(n_components=1000)"
   ]
  },
  {
   "cell_type": "code",
   "execution_count": 46,
   "id": "c236a2c1",
   "metadata": {},
   "outputs": [],
   "source": [
    "pca_x_train=pca.fit_transform(x_train_transformed)"
   ]
  },
  {
   "cell_type": "code",
   "execution_count": 47,
   "id": "bb4703be",
   "metadata": {},
   "outputs": [],
   "source": [
    "pca_x_test=pca.transform(x_test_transformed)"
   ]
  },
  {
   "cell_type": "markdown",
   "id": "ff701b55",
   "metadata": {},
   "source": [
    "# 4. Uczenie modelu"
   ]
  },
  {
   "cell_type": "markdown",
   "id": "7f6f727c",
   "metadata": {},
   "source": [
    "# 4.1 DecisionTree"
   ]
  },
  {
   "cell_type": "code",
   "execution_count": 92,
   "id": "ea62af2e",
   "metadata": {},
   "outputs": [
    {
     "data": {
      "text/plain": [
       "(29167, 204499)"
      ]
     },
     "execution_count": 92,
     "metadata": {},
     "output_type": "execute_result"
    }
   ],
   "source": [
    "x_train_transformed.shape"
   ]
  },
  {
   "cell_type": "code",
   "execution_count": 93,
   "id": "9b6f9a9c",
   "metadata": {},
   "outputs": [
    {
     "data": {
      "text/plain": [
       "(29167,)"
      ]
     },
     "execution_count": 93,
     "metadata": {},
     "output_type": "execute_result"
    }
   ],
   "source": [
    "y_train_transformed.shape"
   ]
  },
  {
   "cell_type": "code",
   "execution_count": 94,
   "id": "ef280121",
   "metadata": {},
   "outputs": [
    {
     "data": {
      "text/plain": [
       "(12501,)"
      ]
     },
     "execution_count": 94,
     "metadata": {},
     "output_type": "execute_result"
    }
   ],
   "source": [
    "y_test_transformed.shape"
   ]
  },
  {
   "cell_type": "code",
   "execution_count": 95,
   "id": "3491837c",
   "metadata": {},
   "outputs": [
    {
     "data": {
      "text/plain": [
       "(12501, 204499)"
      ]
     },
     "execution_count": 95,
     "metadata": {},
     "output_type": "execute_result"
    }
   ],
   "source": [
    "x_test_transformed.shape"
   ]
  },
  {
   "cell_type": "code",
   "execution_count": 96,
   "id": "f7ecddcb",
   "metadata": {},
   "outputs": [
    {
     "data": {
      "text/plain": [
       "DecisionTreeClassifier()"
      ]
     },
     "execution_count": 96,
     "metadata": {},
     "output_type": "execute_result"
    }
   ],
   "source": [
    "DT = DecisionTreeClassifier()\n",
    "DT.fit(x_train_transformed, y_train_transformed)"
   ]
  },
  {
   "cell_type": "code",
   "execution_count": 97,
   "id": "bd8870b7",
   "metadata": {
    "scrolled": false
   },
   "outputs": [
    {
     "data": {
      "text/plain": [
       "0.9998285733877327"
      ]
     },
     "execution_count": 97,
     "metadata": {},
     "output_type": "execute_result"
    }
   ],
   "source": [
    "DT.score(x_train_transformed, y_train_transformed)"
   ]
  },
  {
   "cell_type": "code",
   "execution_count": 98,
   "id": "66e15ab8",
   "metadata": {},
   "outputs": [
    {
     "data": {
      "text/plain": [
       "0.9331253499720022"
      ]
     },
     "execution_count": 98,
     "metadata": {},
     "output_type": "execute_result"
    }
   ],
   "source": [
    "DT.score(x_test_transformed, y_test_transformed)"
   ]
  },
  {
   "cell_type": "code",
   "execution_count": 99,
   "id": "2e5514cc",
   "metadata": {},
   "outputs": [],
   "source": [
    "#XD\n",
    "y_pred = DT.predict(x_test_transformed)\n",
    "confusion_mat = confusion_matrix(y_test_transformed, y_pred)"
   ]
  },
  {
   "cell_type": "code",
   "execution_count": 100,
   "id": "c61a69a4",
   "metadata": {},
   "outputs": [
    {
     "name": "stdout",
     "output_type": "stream",
     "text": [
      "[[6682  422]\n",
      " [ 414 4983]]\n"
     ]
    }
   ],
   "source": [
    "print(confusion_mat)"
   ]
  },
  {
   "cell_type": "markdown",
   "id": "2253dd7d",
   "metadata": {},
   "source": [
    "# 4.2 Testowanie opłacalności algorytmu PCA"
   ]
  },
  {
   "cell_type": "markdown",
   "id": "cb9be312",
   "metadata": {},
   "source": [
    "## 4.2.1 DecisionTree po PCA"
   ]
  },
  {
   "cell_type": "code",
   "execution_count": 57,
   "id": "431ced6c",
   "metadata": {},
   "outputs": [
    {
     "data": {
      "text/plain": [
       "DecisionTreeClassifier()"
      ]
     },
     "execution_count": 57,
     "metadata": {},
     "output_type": "execute_result"
    }
   ],
   "source": [
    "DT2=DecisionTreeClassifier()\n",
    "DT2.fit(pca_x_train, y_train_transformed)"
   ]
  },
  {
   "cell_type": "code",
   "execution_count": 58,
   "id": "aeb0d750",
   "metadata": {
    "scrolled": true
   },
   "outputs": [
    {
     "name": "stdout",
     "output_type": "stream",
     "text": [
      "Score dla treningowego dla DecisionTree po PCA: 0.9998993525010903\n",
      "Score dla testowego dla DecisionTree po PCA: 0.8377131237290787\n"
     ]
    },
    {
     "data": {
      "text/plain": [
       "0.8377131237290787"
      ]
     },
     "execution_count": 58,
     "metadata": {},
     "output_type": "execute_result"
    }
   ],
   "source": [
    "print(f'Score dla treningowego dla DecisionTree po PCA: {DT2.score(pca_x_train,y_train_transformed)}')\n",
    "print(f'Score dla testowego dla DecisionTree po PCA: {DT2.score(pca_x_test,y_test_transformed)}')\n",
    "\n",
    "DT2.score(pca_x_test,y_test_transformed)"
   ]
  },
  {
   "cell_type": "markdown",
   "id": "04fa8927",
   "metadata": {},
   "source": [
    "## 4.2.2 RandomForest po PCA"
   ]
  },
  {
   "cell_type": "code",
   "execution_count": 59,
   "id": "c3b562e9",
   "metadata": {},
   "outputs": [
    {
     "data": {
      "text/plain": [
       "RandomForestClassifier()"
      ]
     },
     "execution_count": 59,
     "metadata": {},
     "output_type": "execute_result"
    }
   ],
   "source": [
    "RF2 = RandomForestClassifier()\n",
    "RF2.fit(pca_x_train, y_train_transformed)"
   ]
  },
  {
   "cell_type": "code",
   "execution_count": 60,
   "id": "676ed27f",
   "metadata": {},
   "outputs": [
    {
     "name": "stdout",
     "output_type": "stream",
     "text": [
      "Score dla treningowego dla RandomForest po PCA: 0.9998658033347871\n",
      "Score dla testowego dla RandomForest po PCA: 0.9015329266385109\n"
     ]
    }
   ],
   "source": [
    "print(f'Score dla treningowego dla RandomForest po PCA: {RF2.score(pca_x_train,y_train_transformed)}')\n",
    "print(f'Score dla testowego dla RandomForest po PCA: {RF2.score(pca_x_test,y_test_transformed)}')"
   ]
  },
  {
   "cell_type": "code",
   "execution_count": 61,
   "id": "9492c772",
   "metadata": {
    "scrolled": true
   },
   "outputs": [
    {
     "data": {
      "image/png": "[encoded data removed]",
      "text/plain": [
       "<Figure size 640x480 with 2 Axes>"
      ]
     },
     "metadata": {},
     "output_type": "display_data"
    }
   ],
   "source": [
    "y_pred = RF2.predict(pca_x_test)\n",
    "confusion_mat = confusion_matrix(y_test_transformed, y_pred)\n",
    "ax = sns.heatmap(confusion_mat, annot=True)\n",
    "ax.set(xlabel='True Label', ylabel='Prediction Label')\n",
    "plt.show()"
   ]
  },
  {
   "cell_type": "markdown",
   "id": "3f0f74a8",
   "metadata": {},
   "source": [
    "# 4.3 RandomForest"
   ]
  },
  {
   "cell_type": "code",
   "execution_count": 101,
   "id": "1ea01482",
   "metadata": {},
   "outputs": [
    {
     "data": {
      "text/plain": [
       "RandomForestClassifier()"
      ]
     },
     "execution_count": 101,
     "metadata": {},
     "output_type": "execute_result"
    }
   ],
   "source": [
    "rf = RandomForestClassifier()\n",
    "rf.fit(x_train_transformed, y_train_transformed)"
   ]
  },
  {
   "cell_type": "code",
   "execution_count": 102,
   "id": "c4d2ef40",
   "metadata": {},
   "outputs": [
    {
     "name": "stdout",
     "output_type": "stream",
     "text": [
      "Score dla treningowego dla RandomForest: 0.9998285733877327\n",
      "Score dla testowego dla RandomForest: 0.9327253819694424\n"
     ]
    }
   ],
   "source": [
    "print(f'Score dla treningowego dla RandomForest: {rf.score(x_train_transformed,y_train_transformed)}')\n",
    "print(f'Score dla testowego dla RandomForest: {rf.score(x_test_transformed,y_test_transformed)}')"
   ]
  },
  {
   "cell_type": "code",
   "execution_count": 103,
   "id": "0b0471e0",
   "metadata": {},
   "outputs": [
    {
     "data": {
      "image/png": "[encoded data removed]",
      "text/plain": [
       "<Figure size 640x480 with 2 Axes>"
      ]
     },
     "metadata": {},
     "output_type": "display_data"
    }
   ],
   "source": [
    "y_pred = rf.predict(x_test_transformed)\n",
    "confusion_mat = confusion_matrix(y_test_transformed, y_pred)\n",
    "ax = sns.heatmap(confusion_mat, annot=True)\n",
    "ax.set(xlabel='True Label', ylabel='Prediction Label')\n",
    "plt.show()"
   ]
  },
  {
   "cell_type": "code",
   "execution_count": 104,
   "id": "2da59edd",
   "metadata": {},
   "outputs": [
    {
     "name": "stdout",
     "output_type": "stream",
     "text": [
      "              precision    recall  f1-score   support\n",
      "\n",
      "           0       0.96      0.93      0.94      7365\n",
      "           1       0.90      0.94      0.92      5136\n",
      "\n",
      "    accuracy                           0.93     12501\n",
      "   macro avg       0.93      0.93      0.93     12501\n",
      "weighted avg       0.93      0.93      0.93     12501\n",
      "\n"
     ]
    }
   ],
   "source": [
    "print(classification_report(y_pred,y_test_transformed))"
   ]
  },
  {
   "cell_type": "markdown",
   "id": "2403d1e4",
   "metadata": {},
   "source": [
    "# 4.4 XGboost"
   ]
  },
  {
   "cell_type": "code",
   "execution_count": 105,
   "id": "85c1bd22",
   "metadata": {},
   "outputs": [
    {
     "data": {
      "text/plain": [
       "XGBClassifier(base_score=None, booster=None, callbacks=None,\n",
       "              colsample_bylevel=None, colsample_bynode=None,\n",
       "              colsample_bytree=None, early_stopping_rounds=None,\n",
       "              enable_categorical=False, eval_metric=None, feature_types=None,\n",
       "              gamma=None, gpu_id=None, grow_policy=None, importance_type=None,\n",
       "              interaction_constraints=None, learning_rate=None, max_bin=None,\n",
       "              max_cat_threshold=None, max_cat_to_onehot=None,\n",
       "              max_delta_step=None, max_depth=None, max_leaves=None,\n",
       "              min_child_weight=None, missing=nan, monotone_constraints=None,\n",
       "              n_estimators=100, n_jobs=None, num_parallel_tree=None,\n",
       "              predictor=None, random_state=None, ...)"
      ]
     },
     "execution_count": 105,
     "metadata": {},
     "output_type": "execute_result"
    }
   ],
   "source": [
    "xgb_classifier = xgb.XGBClassifier()\n",
    "xgb_classifier.fit(x_train_transformed,y_train_transformed)"
   ]
  },
  {
   "cell_type": "code",
   "execution_count": 106,
   "id": "46ecc820",
   "metadata": {},
   "outputs": [
    {
     "name": "stdout",
     "output_type": "stream",
     "text": [
      "Score dla treningowego dla XGboost: 0.9928343676072273\n",
      "Score dla testowego dla XGboost: 0.9633629309655227\n"
     ]
    }
   ],
   "source": [
    "print(f'Score dla treningowego dla XGboost: {xgb_classifier.score(x_train_transformed,y_train_transformed)}')\n",
    "print(f'Score dla testowego dla XGboost: {xgb_classifier.score(x_test_transformed,y_test_transformed)}')"
   ]
  },
  {
   "cell_type": "code",
   "execution_count": 107,
   "id": "a6a9732d",
   "metadata": {},
   "outputs": [
    {
     "name": "stdout",
     "output_type": "stream",
     "text": [
      "              precision    recall  f1-score   support\n",
      "\n",
      "           0       0.96      0.93      0.94      7365\n",
      "           1       0.90      0.94      0.92      5136\n",
      "\n",
      "    accuracy                           0.93     12501\n",
      "   macro avg       0.93      0.93      0.93     12501\n",
      "weighted avg       0.93      0.93      0.93     12501\n",
      "\n"
     ]
    }
   ],
   "source": [
    "print(classification_report(y_pred,y_test_transformed))"
   ]
  },
  {
   "cell_type": "markdown",
   "id": "fb0bfd6b",
   "metadata": {},
   "source": [
    "# 4.* Słownik "
   ]
  },
  {
   "attachments": {
    "precision_recall_score.png": {
     "image/png": "[encoded data removed]"
    }
   },
   "cell_type": "markdown",
   "id": "31d1007d",
   "metadata": {},
   "source": [
    "![precision_recall_score.png](attachment:precision_recall_score.png)"
   ]
  },
  {
   "cell_type": "markdown",
   "id": "3c66d6fe",
   "metadata": {},
   "source": [
    "# 5. Strojenie hiperparametrów"
   ]
  },
  {
   "cell_type": "code",
   "execution_count": null,
   "id": "ee503a0e",
   "metadata": {},
   "outputs": [],
   "source": []
  }
 ],
 "metadata": {
  "kernelspec": {
   "display_name": "Python 3 (ipykernel)",
   "language": "python",
   "name": "python3"
  },
  "language_info": {
   "codemirror_mode": {
    "name": "ipython",
    "version": 3
   },
   "file_extension": ".py",
   "mimetype": "text/x-python",
   "name": "python",
   "nbconvert_exporter": "python",
   "pygments_lexer": "ipython3",
   "version": "3.9.4"
  }
 },
 "nbformat": 4,
 "nbformat_minor": 5
}
